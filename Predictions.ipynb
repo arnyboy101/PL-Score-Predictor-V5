{
 "cells": [
  {
   "cell_type": "code",
   "execution_count": 1,
   "metadata": {},
   "outputs": [],
   "source": [
    "import pandas as pd\n",
    "import numpy as np\n",
    "import tensorflow as tf\n",
    "import seaborn as sns\n",
    "import matplotlib.pyplot as plt\n",
    "import tensorflow.keras\n",
    "from tensorflow.keras.layers import *\n",
    "from tensorflow.keras.models import *\n",
    "from sklearn.model_selection import *\n",
    "from sklearn.model_selection import *\n",
    "from sklearn.linear_model import *\n",
    "from sklearn.preprocessing import *\n",
    "from sklearn.ensemble import *\n",
    "from datetime import datetime\n",
    "from tensorflow.keras.callbacks import *"
   ]
  },
  {
   "cell_type": "code",
   "execution_count": 2,
   "metadata": {},
   "outputs": [],
   "source": [
    "df = pd.read_csv(\"./Datasets/GW4/soccer-spi/spi_matches.csv\")"
   ]
  },
  {
   "cell_type": "code",
   "execution_count": 3,
   "metadata": {},
   "outputs": [
    {
     "output_type": "execute_result",
     "data": {
      "text/plain": "   season        date  league_id                   league             team1  \\\n0    2016  2016-07-09       7921  FA Women's Super League   Liverpool Women   \n1    2016  2016-07-10       7921  FA Women's Super League     Arsenal Women   \n2    2016  2016-07-10       7921  FA Women's Super League  Chelsea FC Women   \n3    2016  2016-07-16       7921  FA Women's Super League   Liverpool Women   \n4    2016  2016-07-17       7921  FA Women's Super League  Chelsea FC Women   \n\n                 team2   spi1   spi2   prob1   prob2  ...  importance1  \\\n0              Reading  51.56  50.42  0.4389  0.2767  ...          NaN   \n1  Notts County Ladies  46.61  54.03  0.3572  0.3608  ...          NaN   \n2      Birmingham City  59.85  54.64  0.4799  0.2487  ...          NaN   \n3  Notts County Ladies  53.00  52.35  0.4289  0.2699  ...          NaN   \n4        Arsenal Women  59.43  60.99  0.4124  0.3157  ...          NaN   \n\n   importance2  score1  score2  xg1  xg2  nsxg1  nsxg2  adj_score1  adj_score2  \n0          NaN     2.0     0.0  NaN  NaN    NaN    NaN         NaN         NaN  \n1          NaN     2.0     0.0  NaN  NaN    NaN    NaN         NaN         NaN  \n2          NaN     1.0     1.0  NaN  NaN    NaN    NaN         NaN         NaN  \n3          NaN     0.0     0.0  NaN  NaN    NaN    NaN         NaN         NaN  \n4          NaN     1.0     2.0  NaN  NaN    NaN    NaN         NaN         NaN  \n\n[5 rows x 23 columns]",
      "text/html": "<div>\n<style scoped>\n    .dataframe tbody tr th:only-of-type {\n        vertical-align: middle;\n    }\n\n    .dataframe tbody tr th {\n        vertical-align: top;\n    }\n\n    .dataframe thead th {\n        text-align: right;\n    }\n</style>\n<table border=\"1\" class=\"dataframe\">\n  <thead>\n    <tr style=\"text-align: right;\">\n      <th></th>\n      <th>season</th>\n      <th>date</th>\n      <th>league_id</th>\n      <th>league</th>\n      <th>team1</th>\n      <th>team2</th>\n      <th>spi1</th>\n      <th>spi2</th>\n      <th>prob1</th>\n      <th>prob2</th>\n      <th>...</th>\n      <th>importance1</th>\n      <th>importance2</th>\n      <th>score1</th>\n      <th>score2</th>\n      <th>xg1</th>\n      <th>xg2</th>\n      <th>nsxg1</th>\n      <th>nsxg2</th>\n      <th>adj_score1</th>\n      <th>adj_score2</th>\n    </tr>\n  </thead>\n  <tbody>\n    <tr>\n      <th>0</th>\n      <td>2016</td>\n      <td>2016-07-09</td>\n      <td>7921</td>\n      <td>FA Women's Super League</td>\n      <td>Liverpool Women</td>\n      <td>Reading</td>\n      <td>51.56</td>\n      <td>50.42</td>\n      <td>0.4389</td>\n      <td>0.2767</td>\n      <td>...</td>\n      <td>NaN</td>\n      <td>NaN</td>\n      <td>2.0</td>\n      <td>0.0</td>\n      <td>NaN</td>\n      <td>NaN</td>\n      <td>NaN</td>\n      <td>NaN</td>\n      <td>NaN</td>\n      <td>NaN</td>\n    </tr>\n    <tr>\n      <th>1</th>\n      <td>2016</td>\n      <td>2016-07-10</td>\n      <td>7921</td>\n      <td>FA Women's Super League</td>\n      <td>Arsenal Women</td>\n      <td>Notts County Ladies</td>\n      <td>46.61</td>\n      <td>54.03</td>\n      <td>0.3572</td>\n      <td>0.3608</td>\n      <td>...</td>\n      <td>NaN</td>\n      <td>NaN</td>\n      <td>2.0</td>\n      <td>0.0</td>\n      <td>NaN</td>\n      <td>NaN</td>\n      <td>NaN</td>\n      <td>NaN</td>\n      <td>NaN</td>\n      <td>NaN</td>\n    </tr>\n    <tr>\n      <th>2</th>\n      <td>2016</td>\n      <td>2016-07-10</td>\n      <td>7921</td>\n      <td>FA Women's Super League</td>\n      <td>Chelsea FC Women</td>\n      <td>Birmingham City</td>\n      <td>59.85</td>\n      <td>54.64</td>\n      <td>0.4799</td>\n      <td>0.2487</td>\n      <td>...</td>\n      <td>NaN</td>\n      <td>NaN</td>\n      <td>1.0</td>\n      <td>1.0</td>\n      <td>NaN</td>\n      <td>NaN</td>\n      <td>NaN</td>\n      <td>NaN</td>\n      <td>NaN</td>\n      <td>NaN</td>\n    </tr>\n    <tr>\n      <th>3</th>\n      <td>2016</td>\n      <td>2016-07-16</td>\n      <td>7921</td>\n      <td>FA Women's Super League</td>\n      <td>Liverpool Women</td>\n      <td>Notts County Ladies</td>\n      <td>53.00</td>\n      <td>52.35</td>\n      <td>0.4289</td>\n      <td>0.2699</td>\n      <td>...</td>\n      <td>NaN</td>\n      <td>NaN</td>\n      <td>0.0</td>\n      <td>0.0</td>\n      <td>NaN</td>\n      <td>NaN</td>\n      <td>NaN</td>\n      <td>NaN</td>\n      <td>NaN</td>\n      <td>NaN</td>\n    </tr>\n    <tr>\n      <th>4</th>\n      <td>2016</td>\n      <td>2016-07-17</td>\n      <td>7921</td>\n      <td>FA Women's Super League</td>\n      <td>Chelsea FC Women</td>\n      <td>Arsenal Women</td>\n      <td>59.43</td>\n      <td>60.99</td>\n      <td>0.4124</td>\n      <td>0.3157</td>\n      <td>...</td>\n      <td>NaN</td>\n      <td>NaN</td>\n      <td>1.0</td>\n      <td>2.0</td>\n      <td>NaN</td>\n      <td>NaN</td>\n      <td>NaN</td>\n      <td>NaN</td>\n      <td>NaN</td>\n      <td>NaN</td>\n    </tr>\n  </tbody>\n</table>\n<p>5 rows × 23 columns</p>\n</div>"
     },
     "metadata": {},
     "execution_count": 3
    }
   ],
   "source": [
    "df.head()"
   ]
  },
  {
   "cell_type": "code",
   "execution_count": 4,
   "metadata": {},
   "outputs": [],
   "source": [
    "def dateconv (dates):\n",
    "  date = datetime.strptime(dates,'%Y-%m-%d') \n",
    "  return date\n",
    "\n",
    "df['date'] = df['date'].apply(lambda x : dateconv(x))"
   ]
  },
  {
   "cell_type": "code",
   "execution_count": 5,
   "metadata": {},
   "outputs": [],
   "source": [
    "last_played = datetime(2020,10,2)\n",
    "GW_end = datetime(2020,10,5)\n",
    "pl = df[df['league']== \"Barclays Premier League\"]\n",
    "old = pl[pl['date']<last_played]\n",
    "new = pl[pl['date']>last_played]\n",
    "new = new[new['date'] < GW_end]"
   ]
  },
  {
   "cell_type": "code",
   "execution_count": 6,
   "metadata": {},
   "outputs": [],
   "source": [
    "teams = pd.get_dummies(new[['team1','team2']])\n",
    "teamsold = pd.get_dummies(old[['team1','team2']])"
   ]
  },
  {
   "cell_type": "code",
   "execution_count": 7,
   "metadata": {},
   "outputs": [],
   "source": [
    "new = pd.concat([new,teams], axis=1)\n",
    "old = pd.concat([old,teamsold], axis=1)"
   ]
  },
  {
   "cell_type": "code",
   "execution_count": 10,
   "metadata": {
    "tags": []
   },
   "outputs": [
    {
     "output_type": "execute_result",
     "data": {
      "text/plain": "Index(['season', 'date', 'league_id', 'league', 'team1', 'team2', 'spi1',\n       'spi2', 'prob1', 'prob2', 'probtie', 'proj_score1', 'proj_score2',\n       'importance1', 'importance2', 'score1', 'score2', 'xg1', 'xg2', 'nsxg1',\n       'nsxg2', 'adj_score1', 'adj_score2', 'team1_Arsenal',\n       'team1_Aston Villa', 'team1_Chelsea', 'team1_Everton',\n       'team1_Leeds United', 'team1_Leicester City', 'team1_Manchester United',\n       'team1_Newcastle', 'team1_Southampton', 'team1_Wolverhampton',\n       'team2_Brighton and Hove Albion', 'team2_Burnley',\n       'team2_Crystal Palace', 'team2_Fulham', 'team2_Liverpool',\n       'team2_Manchester City', 'team2_Sheffield United',\n       'team2_Tottenham Hotspur', 'team2_West Bromwich Albion',\n       'team2_West Ham United'],\n      dtype='object')"
     },
     "metadata": {},
     "execution_count": 10
    }
   ],
   "source": [
    "new.columns"
   ]
  },
  {
   "cell_type": "code",
   "execution_count": 49,
   "metadata": {},
   "outputs": [],
   "source": [
    "old_teams = old.columns.tolist()\n",
    "new_teams = new.columns.tolist()"
   ]
  },
  {
   "cell_type": "code",
   "execution_count": null,
   "metadata": {},
   "outputs": [],
   "source": []
  },
  {
   "cell_type": "code",
   "execution_count": 50,
   "metadata": {},
   "outputs": [],
   "source": [
    "dropped_columns_old = []\n",
    "dropped_columns_new = []\n",
    "for column in old_teams:\n",
    "    if column not in new_teams:\n",
    "        dropped_columns_old.append(column)\n",
    "for column in new_teams:\n",
    "    if column not in old_teams:\n",
    "        dropped_columns_new.append(column)"
   ]
  },
  {
   "cell_type": "code",
   "execution_count": 51,
   "metadata": {},
   "outputs": [
    {
     "output_type": "execute_result",
     "data": {
      "text/plain": "[]"
     },
     "metadata": {},
     "execution_count": 51
    }
   ],
   "source": [
    "dropped_columns_new"
   ]
  },
  {
   "cell_type": "code",
   "execution_count": 11,
   "metadata": {},
   "outputs": [],
   "source": [
    "X_train = old[['season', 'spi1', 'spi2', 'score1','score2','prob1', 'prob2', 'probtie', 'proj_score1',\n",
    "       'proj_score2', 'team1_Arsenal',\n",
    "       'team1_Aston Villa', 'team1_Chelsea', 'team1_Everton',\n",
    "       'team1_Leeds United', 'team1_Leicester City', 'team1_Manchester United',\n",
    "       'team1_Newcastle', 'team1_Southampton', 'team1_Wolverhampton',\n",
    "       'team2_Brighton and Hove Albion', 'team2_Burnley',\n",
    "       'team2_Crystal Palace', 'team2_Fulham', 'team2_Liverpool',\n",
    "       'team2_Manchester City', 'team2_Sheffield United',\n",
    "       'team2_Tottenham Hotspur', 'team2_West Bromwich Albion',\n",
    "       'team2_West Ham United']]\n",
    "X_test = new[['season', 'spi1', 'spi2','prob1', 'prob2', 'probtie', 'proj_score1',\n",
    "       'proj_score2','team1_Arsenal',\n",
    "       'team1_Aston Villa', 'team1_Chelsea', 'team1_Everton',\n",
    "       'team1_Leeds United', 'team1_Leicester City', 'team1_Manchester United',\n",
    "       'team1_Newcastle', 'team1_Southampton', 'team1_Wolverhampton',\n",
    "       'team2_Brighton and Hove Albion', 'team2_Burnley',\n",
    "       'team2_Crystal Palace', 'team2_Fulham', 'team2_Liverpool',\n",
    "       'team2_Manchester City', 'team2_Sheffield United',\n",
    "       'team2_Tottenham Hotspur', 'team2_West Bromwich Albion',\n",
    "       'team2_West Ham United']]"
   ]
  },
  {
   "cell_type": "code",
   "execution_count": 12,
   "metadata": {
    "tags": []
   },
   "outputs": [],
   "source": [
    "X_train.dropna(inplace=True)"
   ]
  },
  {
   "cell_type": "code",
   "execution_count": 13,
   "metadata": {},
   "outputs": [],
   "source": [
    "X_test.dropna(inplace=True)"
   ]
  },
  {
   "cell_type": "code",
   "execution_count": 15,
   "metadata": {
    "tags": []
   },
   "outputs": [
    {
     "output_type": "stream",
     "name": "stdout",
     "text": "10\n10\n"
    }
   ],
   "source": [
    "lm = LinearRegression()\n",
    "lm.fit(X_train.drop(['score1','score2'],axis=1),X_train[['score1','score2']])\n",
    "predictions  = lm.predict(X_test)\n",
    "preds = []\n",
    "for num in predictions:\n",
    "  score1 = np.round(num[0])\n",
    "  score2 = np.round(num[1])\n",
    "  preds.append((score1,score2))\n",
    "\n",
    "len(preds)\n",
    "\n",
    "score1 = []\n",
    "score2 = []\n",
    "\n",
    "for num in preds:\n",
    "  score1.append(num[0])\n",
    "  score2.append(num[1])\n",
    "\n",
    "print(len(score1))\n",
    "print(len(score2))\n",
    "\n",
    "new['Predicted Score 1'] = score1\n",
    "new['Predicted Score 2'] = score2\n",
    "new.to_excel(\"ProjectionsPLGW4_LR.xlsx\")"
   ]
  },
  {
   "cell_type": "code",
   "execution_count": 16,
   "metadata": {},
   "outputs": [],
   "source": [
    "tX_train = X_train.drop(['score1','score2'],axis=1).values\n",
    "tX_test =X_test.values\n",
    "y_train = X_train[['score1','score2']].values"
   ]
  },
  {
   "cell_type": "code",
   "execution_count": 17,
   "metadata": {},
   "outputs": [
    {
     "output_type": "execute_result",
     "data": {
      "text/plain": "(1548, 28)"
     },
     "metadata": {},
     "execution_count": 17
    }
   ],
   "source": [
    "scaler = MinMaxScaler()\n",
    "tX_train = scaler.fit_transform(tX_train)\n",
    "tX_test = scaler.transform(tX_test)\n",
    "tX_train.shape"
   ]
  },
  {
   "cell_type": "code",
   "execution_count": 18,
   "metadata": {},
   "outputs": [],
   "source": [
    "def two_to_three(array):\n",
    "    array = np.reshape(array, array.shape+(1,))\n",
    "    return array"
   ]
  },
  {
   "cell_type": "code",
   "execution_count": 19,
   "metadata": {
    "tags": []
   },
   "outputs": [
    {
     "output_type": "stream",
     "name": "stdout",
     "text": "(10, 28, 1)\n(1548, 28, 1)\n"
    }
   ],
   "source": [
    "tX_test = two_to_three(tX_test)\n",
    "tX_train = two_to_three(tX_train)\n",
    "print(tX_test.shape)\n",
    "print(tX_train.shape)"
   ]
  },
  {
   "cell_type": "code",
   "execution_count": 20,
   "metadata": {},
   "outputs": [],
   "source": [
    "model = Sequential()"
   ]
  },
  {
   "cell_type": "code",
   "execution_count": 21,
   "metadata": {},
   "outputs": [],
   "source": [
    "\n",
    "model.add(SimpleRNN(46, return_sequences=True))\n",
    "model.add(SimpleRNN(46, return_sequences=True))\n",
    "model.add(SimpleRNN(46))\n",
    "model.add(Dense(92, activation='relu'))\n",
    "model.add(Dense(2))\n"
   ]
  },
  {
   "cell_type": "code",
   "execution_count": 22,
   "metadata": {},
   "outputs": [],
   "source": [
    "model.compile(optimizer='adam',loss='mean_squared_error',metrics=['accuracy'])"
   ]
  },
  {
   "cell_type": "code",
   "execution_count": 23,
   "metadata": {},
   "outputs": [],
   "source": [
    "early_stop = EarlyStopping(monitor='loss', mode='min', verbose=1, patience=25)"
   ]
  },
  {
   "cell_type": "code",
   "execution_count": 24,
   "metadata": {
    "tags": []
   },
   "outputs": [
    {
     "output_type": "stream",
     "name": "stdout",
     "text": "Train on 1548 samples\nEpoch 1/60\n1548/1548 [==============================] - 3s 2ms/sample - loss: 1.5241 - accuracy: 0.7099\nEpoch 2/60\n1548/1548 [==============================] - 2s 1ms/sample - loss: 1.3407 - accuracy: 0.7112\nEpoch 3/60\n1548/1548 [==============================] - 2s 1ms/sample - loss: 1.3280 - accuracy: 0.6893\nEpoch 4/60\n1548/1548 [==============================] - 2s 985us/sample - loss: 1.3317 - accuracy: 0.7093\nEpoch 5/60\n1548/1548 [==============================] - 1s 872us/sample - loss: 1.3234 - accuracy: 0.7138\nEpoch 6/60\n1548/1548 [==============================] - 1s 891us/sample - loss: 1.3127 - accuracy: 0.7125\nEpoch 7/60\n1548/1548 [==============================] - 2s 983us/sample - loss: 1.3285 - accuracy: 0.6977\nEpoch 8/60\n1548/1548 [==============================] - 2s 1ms/sample - loss: 1.3051 - accuracy: 0.7177\nEpoch 9/60\n1548/1548 [==============================] - 2s 1ms/sample - loss: 1.3130 - accuracy: 0.7106\nEpoch 10/60\n1548/1548 [==============================] - 1s 930us/sample - loss: 1.2932 - accuracy: 0.7067\nEpoch 11/60\n1548/1548 [==============================] - 1s 870us/sample - loss: 1.2871 - accuracy: 0.7112\nEpoch 12/60\n1548/1548 [==============================] - 2s 1ms/sample - loss: 1.2884 - accuracy: 0.7222\nEpoch 13/60\n1548/1548 [==============================] - 2s 974us/sample - loss: 1.2739 - accuracy: 0.7151\nEpoch 14/60\n1548/1548 [==============================] - 2s 1ms/sample - loss: 1.2767 - accuracy: 0.7119\nEpoch 15/60\n1548/1548 [==============================] - 2s 1ms/sample - loss: 1.2803 - accuracy: 0.7145\nEpoch 16/60\n1548/1548 [==============================] - 2s 1ms/sample - loss: 1.2813 - accuracy: 0.7274\nEpoch 17/60\n1548/1548 [==============================] - 2s 1ms/sample - loss: 1.2866 - accuracy: 0.7158\nEpoch 18/60\n1548/1548 [==============================] - 2s 2ms/sample - loss: 1.2718 - accuracy: 0.7158\nEpoch 19/60\n1548/1548 [==============================] - 2s 1ms/sample - loss: 1.2817 - accuracy: 0.7138\nEpoch 20/60\n1548/1548 [==============================] - 2s 1ms/sample - loss: 1.2612 - accuracy: 0.7164\nEpoch 21/60\n1548/1548 [==============================] - 2s 1ms/sample - loss: 1.2496 - accuracy: 0.7267\nEpoch 22/60\n1548/1548 [==============================] - 2s 1ms/sample - loss: 1.2464 - accuracy: 0.7222\nEpoch 23/60\n1548/1548 [==============================] - 2s 1ms/sample - loss: 1.2577 - accuracy: 0.7158\nEpoch 24/60\n1548/1548 [==============================] - 2s 1ms/sample - loss: 1.2382 - accuracy: 0.7112\nEpoch 25/60\n1548/1548 [==============================] - 2s 1ms/sample - loss: 1.2372 - accuracy: 0.7183\nEpoch 26/60\n1548/1548 [==============================] - 3s 2ms/sample - loss: 1.2372 - accuracy: 0.7203\nEpoch 27/60\n1548/1548 [==============================] - 3s 2ms/sample - loss: 1.2340 - accuracy: 0.7261\nEpoch 28/60\n1548/1548 [==============================] - 2s 1ms/sample - loss: 1.2288 - accuracy: 0.7235\nEpoch 29/60\n1548/1548 [==============================] - 2s 1ms/sample - loss: 1.2327 - accuracy: 0.7274\nEpoch 30/60\n1548/1548 [==============================] - 2s 1ms/sample - loss: 1.2312 - accuracy: 0.7171\nEpoch 31/60\n1548/1548 [==============================] - 2s 1ms/sample - loss: 1.2182 - accuracy: 0.7274\nEpoch 32/60\n1548/1548 [==============================] - 2s 1ms/sample - loss: 1.2197 - accuracy: 0.7280\nEpoch 33/60\n1548/1548 [==============================] - 2s 1ms/sample - loss: 1.2243 - accuracy: 0.7106\nEpoch 34/60\n1548/1548 [==============================] - 2s 1ms/sample - loss: 1.2094 - accuracy: 0.7345\nEpoch 35/60\n1548/1548 [==============================] - 2s 1ms/sample - loss: 1.2131 - accuracy: 0.7229\nEpoch 36/60\n1548/1548 [==============================] - 2s 1ms/sample - loss: 1.2148 - accuracy: 0.7410\nEpoch 37/60\n1548/1548 [==============================] - 2s 1ms/sample - loss: 1.1936 - accuracy: 0.7319\nEpoch 38/60\n1548/1548 [==============================] - 2s 1ms/sample - loss: 1.1887 - accuracy: 0.7429\nEpoch 39/60\n1548/1548 [==============================] - 2s 1ms/sample - loss: 1.2075 - accuracy: 0.7235\nEpoch 40/60\n1548/1548 [==============================] - 1s 915us/sample - loss: 1.1862 - accuracy: 0.7364\nEpoch 41/60\n1548/1548 [==============================] - 2s 1ms/sample - loss: 1.1913 - accuracy: 0.7319\nEpoch 42/60\n1548/1548 [==============================] - 2s 1ms/sample - loss: 1.1764 - accuracy: 0.7216\nEpoch 43/60\n1548/1548 [==============================] - 2s 1ms/sample - loss: 1.1799 - accuracy: 0.7326\nEpoch 44/60\n1548/1548 [==============================] - 1s 948us/sample - loss: 1.1975 - accuracy: 0.7442\nEpoch 45/60\n1548/1548 [==============================] - 2s 1ms/sample - loss: 1.1613 - accuracy: 0.7377\nEpoch 46/60\n1548/1548 [==============================] - 2s 1ms/sample - loss: 1.1760 - accuracy: 0.7306\nEpoch 47/60\n1548/1548 [==============================] - 1s 863us/sample - loss: 1.1649 - accuracy: 0.7468\nEpoch 48/60\n1548/1548 [==============================] - 2s 970us/sample - loss: 1.1648 - accuracy: 0.7332\nEpoch 49/60\n1548/1548 [==============================] - 1s 964us/sample - loss: 1.1657 - accuracy: 0.7242\nEpoch 50/60\n1548/1548 [==============================] - 2s 1ms/sample - loss: 1.1409 - accuracy: 0.7351\nEpoch 51/60\n1548/1548 [==============================] - 2s 1ms/sample - loss: 1.1503 - accuracy: 0.7351\nEpoch 52/60\n1548/1548 [==============================] - 2s 1ms/sample - loss: 1.1304 - accuracy: 0.7526\nEpoch 53/60\n1548/1548 [==============================] - 2s 1ms/sample - loss: 1.1415 - accuracy: 0.7377\nEpoch 54/60\n1548/1548 [==============================] - 2s 1ms/sample - loss: 1.1253 - accuracy: 0.7390\nEpoch 55/60\n1548/1548 [==============================] - 2s 1ms/sample - loss: 1.1236 - accuracy: 0.7429\nEpoch 56/60\n1548/1548 [==============================] - 2s 1ms/sample - loss: 1.1231 - accuracy: 0.7358\nEpoch 57/60\n1548/1548 [==============================] - 2s 1ms/sample - loss: 1.1135 - accuracy: 0.7416\nEpoch 58/60\n1548/1548 [==============================] - 3s 2ms/sample - loss: 1.1057 - accuracy: 0.7500\nEpoch 59/60\n1548/1548 [==============================] - 2s 2ms/sample - loss: 1.0923 - accuracy: 0.7345\nEpoch 60/60\n1548/1548 [==============================] - 3s 2ms/sample - loss: 1.1063 - accuracy: 0.7494\n"
    },
    {
     "output_type": "execute_result",
     "data": {
      "text/plain": "<tensorflow.python.keras.callbacks.History at 0x21322a27648>"
     },
     "metadata": {},
     "execution_count": 24
    }
   ],
   "source": [
    "model.fit(tX_train,y_train,epochs=60)"
   ]
  },
  {
   "cell_type": "code",
   "execution_count": 25,
   "metadata": {
    "tags": []
   },
   "outputs": [
    {
     "output_type": "stream",
     "name": "stdout",
     "text": "10\n10\n"
    }
   ],
   "source": [
    "predictions  = model.predict(tX_test)\n",
    "preds = []\n",
    "for num in predictions:\n",
    "  score1 = np.round(num[0]) if num[0]>=0 else 0\n",
    "  score2 = np.round(num[1]) if num[1]>=0 else 0\n",
    "  preds.append((score1,score2))\n",
    "\n",
    "len(preds)\n",
    "\n",
    "score1 = []\n",
    "score2 = []\n",
    "\n",
    "for num in preds:\n",
    "  score1.append(num[0])\n",
    "  score2.append(num[1])\n",
    "\n",
    "print(len(score1))\n",
    "print(len(score2))\n",
    "\n",
    "new['Predicted Score 1'] = score1\n",
    "new['Predicted Score 2'] = score2\n",
    "new.to_excel(\"ProjectionsPLGW4_TF.xlsx\")"
   ]
  },
  {
   "cell_type": "code",
   "execution_count": null,
   "metadata": {},
   "outputs": [],
   "source": []
  }
 ],
 "metadata": {
  "kernelspec": {
   "display_name": "Python 3",
   "language": "python",
   "name": "python3"
  },
  "language_info": {
   "codemirror_mode": {
    "name": "ipython",
    "version": 3
   },
   "file_extension": ".py",
   "mimetype": "text/x-python",
   "name": "python",
   "nbconvert_exporter": "python",
   "pygments_lexer": "ipython3",
   "version": "3.7.4-final"
  }
 },
 "nbformat": 4,
 "nbformat_minor": 2
}