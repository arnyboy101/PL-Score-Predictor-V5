{
 "cells": [
  {
   "cell_type": "code",
   "execution_count": 1,
   "metadata": {},
   "outputs": [],
   "source": [
    "import pandas as pd\n",
    "import numpy as np\n",
    "import tensorflow as tf\n",
    "import seaborn as sns\n",
    "import matplotlib.pyplot as plt\n",
    "import tensorflow.keras\n",
    "from tensorflow.keras.layers import *\n",
    "from tensorflow.keras.models import *\n",
    "from sklearn.model_selection import *\n",
    "from sklearn.model_selection import *\n",
    "from sklearn.linear_model import *\n",
    "from sklearn.preprocessing import *\n",
    "from sklearn.ensemble import *\n",
    "from datetime import datetime\n",
    "from tensorflow.keras.callbacks import *"
   ]
  },
  {
   "cell_type": "code",
   "execution_count": 2,
   "metadata": {},
   "outputs": [],
   "source": [
    "df = pd.read_csv(\"./Datasets/GW9/soccer-spi/spi_matches.csv\")"
   ]
  },
  {
   "cell_type": "code",
   "execution_count": 3,
   "metadata": {},
   "outputs": [
    {
     "output_type": "execute_result",
     "data": {
      "text/plain": [
       "   season        date  league_id                   league             team1  \\\n",
       "0    2016  2016-07-09       7921  FA Women's Super League   Liverpool Women   \n",
       "1    2016  2016-07-10       7921  FA Women's Super League     Arsenal Women   \n",
       "2    2016  2016-07-10       7921  FA Women's Super League  Chelsea FC Women   \n",
       "3    2016  2016-07-16       7921  FA Women's Super League   Liverpool Women   \n",
       "4    2016  2016-07-17       7921  FA Women's Super League  Chelsea FC Women   \n",
       "\n",
       "                 team2   spi1   spi2   prob1   prob2  ...  importance1  \\\n",
       "0              Reading  51.56  50.42  0.4389  0.2767  ...          NaN   \n",
       "1  Notts County Ladies  46.61  54.03  0.3572  0.3608  ...          NaN   \n",
       "2      Birmingham City  59.85  54.64  0.4799  0.2487  ...          NaN   \n",
       "3  Notts County Ladies  53.00  52.35  0.4289  0.2699  ...          NaN   \n",
       "4        Arsenal Women  59.43  60.99  0.4124  0.3157  ...          NaN   \n",
       "\n",
       "   importance2  score1  score2  xg1  xg2  nsxg1  nsxg2  adj_score1  adj_score2  \n",
       "0          NaN     2.0     0.0  NaN  NaN    NaN    NaN         NaN         NaN  \n",
       "1          NaN     2.0     0.0  NaN  NaN    NaN    NaN         NaN         NaN  \n",
       "2          NaN     1.0     1.0  NaN  NaN    NaN    NaN         NaN         NaN  \n",
       "3          NaN     0.0     0.0  NaN  NaN    NaN    NaN         NaN         NaN  \n",
       "4          NaN     1.0     2.0  NaN  NaN    NaN    NaN         NaN         NaN  \n",
       "\n",
       "[5 rows x 23 columns]"
      ],
      "text/html": "<div>\n<style scoped>\n    .dataframe tbody tr th:only-of-type {\n        vertical-align: middle;\n    }\n\n    .dataframe tbody tr th {\n        vertical-align: top;\n    }\n\n    .dataframe thead th {\n        text-align: right;\n    }\n</style>\n<table border=\"1\" class=\"dataframe\">\n  <thead>\n    <tr style=\"text-align: right;\">\n      <th></th>\n      <th>season</th>\n      <th>date</th>\n      <th>league_id</th>\n      <th>league</th>\n      <th>team1</th>\n      <th>team2</th>\n      <th>spi1</th>\n      <th>spi2</th>\n      <th>prob1</th>\n      <th>prob2</th>\n      <th>...</th>\n      <th>importance1</th>\n      <th>importance2</th>\n      <th>score1</th>\n      <th>score2</th>\n      <th>xg1</th>\n      <th>xg2</th>\n      <th>nsxg1</th>\n      <th>nsxg2</th>\n      <th>adj_score1</th>\n      <th>adj_score2</th>\n    </tr>\n  </thead>\n  <tbody>\n    <tr>\n      <th>0</th>\n      <td>2016</td>\n      <td>2016-07-09</td>\n      <td>7921</td>\n      <td>FA Women's Super League</td>\n      <td>Liverpool Women</td>\n      <td>Reading</td>\n      <td>51.56</td>\n      <td>50.42</td>\n      <td>0.4389</td>\n      <td>0.2767</td>\n      <td>...</td>\n      <td>NaN</td>\n      <td>NaN</td>\n      <td>2.0</td>\n      <td>0.0</td>\n      <td>NaN</td>\n      <td>NaN</td>\n      <td>NaN</td>\n      <td>NaN</td>\n      <td>NaN</td>\n      <td>NaN</td>\n    </tr>\n    <tr>\n      <th>1</th>\n      <td>2016</td>\n      <td>2016-07-10</td>\n      <td>7921</td>\n      <td>FA Women's Super League</td>\n      <td>Arsenal Women</td>\n      <td>Notts County Ladies</td>\n      <td>46.61</td>\n      <td>54.03</td>\n      <td>0.3572</td>\n      <td>0.3608</td>\n      <td>...</td>\n      <td>NaN</td>\n      <td>NaN</td>\n      <td>2.0</td>\n      <td>0.0</td>\n      <td>NaN</td>\n      <td>NaN</td>\n      <td>NaN</td>\n      <td>NaN</td>\n      <td>NaN</td>\n      <td>NaN</td>\n    </tr>\n    <tr>\n      <th>2</th>\n      <td>2016</td>\n      <td>2016-07-10</td>\n      <td>7921</td>\n      <td>FA Women's Super League</td>\n      <td>Chelsea FC Women</td>\n      <td>Birmingham City</td>\n      <td>59.85</td>\n      <td>54.64</td>\n      <td>0.4799</td>\n      <td>0.2487</td>\n      <td>...</td>\n      <td>NaN</td>\n      <td>NaN</td>\n      <td>1.0</td>\n      <td>1.0</td>\n      <td>NaN</td>\n      <td>NaN</td>\n      <td>NaN</td>\n      <td>NaN</td>\n      <td>NaN</td>\n      <td>NaN</td>\n    </tr>\n    <tr>\n      <th>3</th>\n      <td>2016</td>\n      <td>2016-07-16</td>\n      <td>7921</td>\n      <td>FA Women's Super League</td>\n      <td>Liverpool Women</td>\n      <td>Notts County Ladies</td>\n      <td>53.00</td>\n      <td>52.35</td>\n      <td>0.4289</td>\n      <td>0.2699</td>\n      <td>...</td>\n      <td>NaN</td>\n      <td>NaN</td>\n      <td>0.0</td>\n      <td>0.0</td>\n      <td>NaN</td>\n      <td>NaN</td>\n      <td>NaN</td>\n      <td>NaN</td>\n      <td>NaN</td>\n      <td>NaN</td>\n    </tr>\n    <tr>\n      <th>4</th>\n      <td>2016</td>\n      <td>2016-07-17</td>\n      <td>7921</td>\n      <td>FA Women's Super League</td>\n      <td>Chelsea FC Women</td>\n      <td>Arsenal Women</td>\n      <td>59.43</td>\n      <td>60.99</td>\n      <td>0.4124</td>\n      <td>0.3157</td>\n      <td>...</td>\n      <td>NaN</td>\n      <td>NaN</td>\n      <td>1.0</td>\n      <td>2.0</td>\n      <td>NaN</td>\n      <td>NaN</td>\n      <td>NaN</td>\n      <td>NaN</td>\n      <td>NaN</td>\n      <td>NaN</td>\n    </tr>\n  </tbody>\n</table>\n<p>5 rows × 23 columns</p>\n</div>"
     },
     "metadata": {},
     "execution_count": 3
    }
   ],
   "source": [
    "df.head()"
   ]
  },
  {
   "cell_type": "code",
   "execution_count": 4,
   "metadata": {},
   "outputs": [],
   "source": [
    "def dateconv (dates):\n",
    "  date = datetime.strptime(dates,'%Y-%m-%d') \n",
    "  return date\n",
    "\n",
    "df['date'] = df['date'].apply(lambda x : dateconv(x))"
   ]
  },
  {
   "cell_type": "code",
   "execution_count": 5,
   "metadata": {},
   "outputs": [],
   "source": [
    "last_played = datetime(2020,11,20)\n",
    "GW_end = datetime(2020,11,25)\n",
    "pl = df[df['league']== \"Barclays Premier League\"]\n",
    "old = pl[pl['date']<last_played]\n",
    "new = pl[pl['date']>last_played]\n",
    "new = new[new['date'] < GW_end]"
   ]
  },
  {
   "cell_type": "code",
   "execution_count": 6,
   "metadata": {},
   "outputs": [],
   "source": [
    "teams = pd.get_dummies(new[['team1','team2']])\n",
    "teamsold = pd.get_dummies(old[['team1','team2']])"
   ]
  },
  {
   "cell_type": "code",
   "execution_count": 7,
   "metadata": {},
   "outputs": [],
   "source": [
    "new = pd.concat([new,teams], axis=1)\n",
    "old = pd.concat([old,teamsold], axis=1)"
   ]
  },
  {
   "cell_type": "code",
   "execution_count": 8,
   "metadata": {
    "tags": []
   },
   "outputs": [
    {
     "output_type": "execute_result",
     "data": {
      "text/plain": [
       "Index(['season', 'date', 'league_id', 'league', 'team1', 'team2', 'spi1',\n",
       "       'spi2', 'prob1', 'prob2', 'probtie', 'proj_score1', 'proj_score2',\n",
       "       'importance1', 'importance2', 'score1', 'score2', 'xg1', 'xg2', 'nsxg1',\n",
       "       'nsxg2', 'adj_score1', 'adj_score2', 'team1_Aston Villa',\n",
       "       'team1_Burnley', 'team1_Fulham', 'team1_Leeds United',\n",
       "       'team1_Liverpool', 'team1_Manchester United', 'team1_Newcastle',\n",
       "       'team1_Sheffield United', 'team1_Tottenham Hotspur',\n",
       "       'team1_Wolverhampton', 'team2_Arsenal',\n",
       "       'team2_Brighton and Hove Albion', 'team2_Chelsea',\n",
       "       'team2_Crystal Palace', 'team2_Everton', 'team2_Leicester City',\n",
       "       'team2_Manchester City', 'team2_Southampton',\n",
       "       'team2_West Bromwich Albion', 'team2_West Ham United'],\n",
       "      dtype='object')"
      ]
     },
     "metadata": {},
     "execution_count": 8
    }
   ],
   "source": [
    "new.columns"
   ]
  },
  {
   "cell_type": "code",
   "execution_count": 9,
   "metadata": {},
   "outputs": [],
   "source": [
    "old_teams = old.columns.tolist()\n",
    "new_teams = new.columns.tolist()"
   ]
  },
  {
   "cell_type": "code",
   "execution_count": null,
   "metadata": {},
   "outputs": [],
   "source": []
  },
  {
   "cell_type": "code",
   "execution_count": 10,
   "metadata": {},
   "outputs": [],
   "source": [
    "dropped_columns_old = []\n",
    "dropped_columns_new = []\n",
    "for column in old_teams:\n",
    "    if column not in new_teams:\n",
    "        dropped_columns_old.append(column)\n",
    "for column in new_teams:\n",
    "    if column not in old_teams:\n",
    "        dropped_columns_new.append(column)"
   ]
  },
  {
   "cell_type": "code",
   "execution_count": 11,
   "metadata": {},
   "outputs": [
    {
     "output_type": "execute_result",
     "data": {
      "text/plain": [
       "[]"
      ]
     },
     "metadata": {},
     "execution_count": 11
    }
   ],
   "source": [
    "dropped_columns_new"
   ]
  },
  {
   "cell_type": "code",
   "execution_count": 9,
   "metadata": {},
   "outputs": [],
   "source": [
    "X_train = old[['season', 'spi1', 'spi2', 'score1','score2','prob1', 'prob2', 'probtie', 'proj_score1',\n",
    "       'proj_score2', 'team1_Aston Villa',\n",
    "       'team1_Burnley', 'team1_Fulham', 'team1_Leeds United',\n",
    "       'team1_Liverpool', 'team1_Manchester United', 'team1_Newcastle',\n",
    "       'team1_Sheffield United', 'team1_Tottenham Hotspur',\n",
    "       'team1_Wolverhampton', 'team2_Arsenal',\n",
    "       'team2_Brighton and Hove Albion', 'team2_Chelsea',\n",
    "       'team2_Crystal Palace', 'team2_Everton', 'team2_Leicester City',\n",
    "       'team2_Manchester City', 'team2_Southampton',\n",
    "       'team2_West Bromwich Albion', 'team2_West Ham United']]\n",
    "X_test = new[['season', 'spi1', 'spi2','prob1', 'prob2', 'probtie', 'proj_score1',\n",
    "       'proj_score2','team1_Aston Villa',\n",
    "       'team1_Burnley', 'team1_Fulham', 'team1_Leeds United',\n",
    "       'team1_Liverpool', 'team1_Manchester United', 'team1_Newcastle',\n",
    "       'team1_Sheffield United', 'team1_Tottenham Hotspur',\n",
    "       'team1_Wolverhampton', 'team2_Arsenal',\n",
    "       'team2_Brighton and Hove Albion', 'team2_Chelsea',\n",
    "       'team2_Crystal Palace', 'team2_Everton', 'team2_Leicester City',\n",
    "       'team2_Manchester City', 'team2_Southampton',\n",
    "       'team2_West Bromwich Albion', 'team2_West Ham United']]"
   ]
  },
  {
   "cell_type": "code",
   "execution_count": 10,
   "metadata": {
    "tags": []
   },
   "outputs": [],
   "source": [
    "X_train.dropna(inplace=True)"
   ]
  },
  {
   "cell_type": "code",
   "execution_count": 11,
   "metadata": {},
   "outputs": [],
   "source": [
    "X_test.dropna(inplace=True)"
   ]
  },
  {
   "cell_type": "code",
   "execution_count": 13,
   "metadata": {
    "tags": []
   },
   "outputs": [
    {
     "output_type": "stream",
     "name": "stdout",
     "text": [
      "10\n10\n"
     ]
    }
   ],
   "source": [
    "lm = LinearRegression()\n",
    "lm.fit(X_train.drop(['score1','score2'],axis=1),X_train[['score1','score2']])\n",
    "predictions  = lm.predict(X_test)\n",
    "preds = []\n",
    "for num in predictions:\n",
    "  score1 = np.round(num[0])\n",
    "  score2 = np.round(num[1])\n",
    "  preds.append((score1,score2))\n",
    "\n",
    "len(preds)\n",
    "\n",
    "score1 = []\n",
    "score2 = []\n",
    "\n",
    "for num in preds:\n",
    "  score1.append(num[0])\n",
    "  score2.append(num[1])\n",
    "\n",
    "print(len(score1))\n",
    "print(len(score2))\n",
    "\n",
    "new['Predicted Score 1'] = score1\n",
    "new['Predicted Score 2'] = score2\n",
    "new.to_excel(\"ProjectionsPLGW9_LR.xlsx\")"
   ]
  },
  {
   "cell_type": "code",
   "execution_count": 14,
   "metadata": {},
   "outputs": [],
   "source": [
    "tX_train = X_train.drop(['score1','score2'],axis=1).values\n",
    "tX_test =X_test.values\n",
    "y_train = X_train[['score1','score2']].values"
   ]
  },
  {
   "cell_type": "code",
   "execution_count": 15,
   "metadata": {},
   "outputs": [
    {
     "output_type": "execute_result",
     "data": {
      "text/plain": [
       "(1598, 28)"
      ]
     },
     "metadata": {},
     "execution_count": 15
    }
   ],
   "source": [
    "scaler = MinMaxScaler()\n",
    "tX_train = scaler.fit_transform(tX_train)\n",
    "tX_test = scaler.transform(tX_test)\n",
    "tX_train.shape"
   ]
  },
  {
   "cell_type": "code",
   "execution_count": 16,
   "metadata": {},
   "outputs": [],
   "source": [
    "def two_to_three(array):\n",
    "    array = np.reshape(array, array.shape+(1,))\n",
    "    return array"
   ]
  },
  {
   "cell_type": "code",
   "execution_count": 17,
   "metadata": {
    "tags": []
   },
   "outputs": [
    {
     "output_type": "stream",
     "name": "stdout",
     "text": [
      "(10, 28, 1)\n(1598, 28, 1)\n"
     ]
    }
   ],
   "source": [
    "tX_test = two_to_three(tX_test)\n",
    "tX_train = two_to_three(tX_train)\n",
    "print(tX_test.shape)\n",
    "print(tX_train.shape)"
   ]
  },
  {
   "cell_type": "code",
   "execution_count": 18,
   "metadata": {},
   "outputs": [],
   "source": [
    "model = Sequential()"
   ]
  },
  {
   "cell_type": "code",
   "execution_count": 19,
   "metadata": {},
   "outputs": [],
   "source": [
    "\n",
    "model.add(SimpleRNN(46, return_sequences=True))\n",
    "model.add(SimpleRNN(46, return_sequences=True))\n",
    "model.add(SimpleRNN(46))\n",
    "model.add(Dense(92, activation='relu'))\n",
    "model.add(Dense(2))\n"
   ]
  },
  {
   "cell_type": "code",
   "execution_count": 20,
   "metadata": {},
   "outputs": [],
   "source": [
    "model.compile(optimizer='adam',loss='mean_squared_error',metrics=['accuracy'])"
   ]
  },
  {
   "cell_type": "code",
   "execution_count": 21,
   "metadata": {},
   "outputs": [],
   "source": [
    "early_stop = EarlyStopping(monitor='loss', mode='min', verbose=1, patience=25)"
   ]
  },
  {
   "cell_type": "code",
   "execution_count": 22,
   "metadata": {
    "tags": []
   },
   "outputs": [
    {
     "output_type": "stream",
     "name": "stdout",
     "text": [
      "Train on 1598 samples\n",
      "Epoch 1/60\n",
      "1598/1598 [==============================] - 4s 3ms/sample - loss: 1.5786 - accuracy: 0.6589\n",
      "Epoch 2/60\n",
      "1598/1598 [==============================] - 2s 1ms/sample - loss: 1.3739 - accuracy: 0.6877\n",
      "Epoch 3/60\n",
      "1598/1598 [==============================] - 1s 853us/sample - loss: 1.3573 - accuracy: 0.7196\n",
      "Epoch 4/60\n",
      "1598/1598 [==============================] - 1s 839us/sample - loss: 1.3421 - accuracy: 0.7009\n",
      "Epoch 5/60\n",
      "1598/1598 [==============================] - 2s 942us/sample - loss: 1.3484 - accuracy: 0.7084\n",
      "Epoch 6/60\n",
      "1598/1598 [==============================] - 2s 1ms/sample - loss: 1.3415 - accuracy: 0.7153\n",
      "Epoch 7/60\n",
      "1598/1598 [==============================] - 2s 1ms/sample - loss: 1.3424 - accuracy: 0.7209\n",
      "Epoch 8/60\n",
      "1598/1598 [==============================] - 2s 1ms/sample - loss: 1.3305 - accuracy: 0.7153\n",
      "Epoch 9/60\n",
      "1598/1598 [==============================] - 2s 2ms/sample - loss: 1.3056 - accuracy: 0.7103\n",
      "Epoch 10/60\n",
      "1598/1598 [==============================] - 2s 1ms/sample - loss: 1.3149 - accuracy: 0.7046\n",
      "Epoch 11/60\n",
      "1598/1598 [==============================] - 2s 1ms/sample - loss: 1.3044 - accuracy: 0.7228\n",
      "Epoch 12/60\n",
      "1598/1598 [==============================] - 2s 2ms/sample - loss: 1.3119 - accuracy: 0.7084\n",
      "Epoch 13/60\n",
      "1598/1598 [==============================] - 2s 2ms/sample - loss: 1.3241 - accuracy: 0.7190\n",
      "Epoch 14/60\n",
      "1598/1598 [==============================] - 4s 3ms/sample - loss: 1.3296 - accuracy: 0.7090\n",
      "Epoch 15/60\n",
      "1598/1598 [==============================] - 3s 2ms/sample - loss: 1.3041 - accuracy: 0.7015\n",
      "Epoch 16/60\n",
      "1598/1598 [==============================] - 3s 2ms/sample - loss: 1.3082 - accuracy: 0.7228\n",
      "Epoch 17/60\n",
      "1598/1598 [==============================] - 2s 1ms/sample - loss: 1.3068 - accuracy: 0.7228\n",
      "Epoch 18/60\n",
      "1598/1598 [==============================] - 2s 1ms/sample - loss: 1.2931 - accuracy: 0.7203\n",
      "Epoch 19/60\n",
      "1598/1598 [==============================] - 3s 2ms/sample - loss: 1.2845 - accuracy: 0.7121\n",
      "Epoch 20/60\n",
      "1598/1598 [==============================] - 3s 2ms/sample - loss: 1.2886 - accuracy: 0.7159\n",
      "Epoch 21/60\n",
      "1598/1598 [==============================] - 2s 1ms/sample - loss: 1.3027 - accuracy: 0.7184\n",
      "Epoch 22/60\n",
      "1598/1598 [==============================] - 3s 2ms/sample - loss: 1.2763 - accuracy: 0.7159\n",
      "Epoch 23/60\n",
      "1598/1598 [==============================] - 3s 2ms/sample - loss: 1.2689 - accuracy: 0.7272\n",
      "Epoch 24/60\n",
      "1598/1598 [==============================] - 2s 1ms/sample - loss: 1.2675 - accuracy: 0.7103\n",
      "Epoch 25/60\n",
      "1598/1598 [==============================] - 2s 1ms/sample - loss: 1.2801 - accuracy: 0.7178\n",
      "Epoch 26/60\n",
      "1598/1598 [==============================] - 2s 1ms/sample - loss: 1.2600 - accuracy: 0.7222\n",
      "Epoch 27/60\n",
      "1598/1598 [==============================] - 2s 1ms/sample - loss: 1.2617 - accuracy: 0.7328\n",
      "Epoch 28/60\n",
      "1598/1598 [==============================] - 2s 1ms/sample - loss: 1.2737 - accuracy: 0.7272\n",
      "Epoch 29/60\n",
      "1598/1598 [==============================] - 2s 1ms/sample - loss: 1.2607 - accuracy: 0.7453\n",
      "Epoch 30/60\n",
      "1598/1598 [==============================] - 2s 1ms/sample - loss: 1.2646 - accuracy: 0.7247\n",
      "Epoch 31/60\n",
      "1598/1598 [==============================] - 2s 1ms/sample - loss: 1.2418 - accuracy: 0.7190\n",
      "Epoch 32/60\n",
      "1598/1598 [==============================] - 2s 1ms/sample - loss: 1.2305 - accuracy: 0.7347\n",
      "Epoch 33/60\n",
      "1598/1598 [==============================] - 2s 1ms/sample - loss: 1.2505 - accuracy: 0.7322\n",
      "Epoch 34/60\n",
      "1598/1598 [==============================] - 2s 1ms/sample - loss: 1.2418 - accuracy: 0.7322\n",
      "Epoch 35/60\n",
      "1598/1598 [==============================] - 2s 1000us/sample - loss: 1.2545 - accuracy: 0.7259\n",
      "Epoch 36/60\n",
      "1598/1598 [==============================] - 2s 971us/sample - loss: 1.2318 - accuracy: 0.7297\n",
      "Epoch 37/60\n",
      "1598/1598 [==============================] - 2s 1ms/sample - loss: 1.2263 - accuracy: 0.7359\n",
      "Epoch 38/60\n",
      "1598/1598 [==============================] - 2s 1ms/sample - loss: 1.2298 - accuracy: 0.7453\n",
      "Epoch 39/60\n",
      "1598/1598 [==============================] - 2s 951us/sample - loss: 1.2282 - accuracy: 0.7265\n",
      "Epoch 40/60\n",
      "1598/1598 [==============================] - 1s 922us/sample - loss: 1.2316 - accuracy: 0.7347\n",
      "Epoch 41/60\n",
      "1598/1598 [==============================] - 2s 1ms/sample - loss: 1.2037 - accuracy: 0.7353\n",
      "Epoch 42/60\n",
      "1598/1598 [==============================] - 3s 2ms/sample - loss: 1.2088 - accuracy: 0.7365\n",
      "Epoch 43/60\n",
      "1598/1598 [==============================] - 4s 3ms/sample - loss: 1.2010 - accuracy: 0.7315\n",
      "Epoch 44/60\n",
      "1598/1598 [==============================] - 2s 2ms/sample - loss: 1.1991 - accuracy: 0.7272\n",
      "Epoch 45/60\n",
      "1598/1598 [==============================] - 2s 1ms/sample - loss: 1.2008 - accuracy: 0.7403\n",
      "Epoch 46/60\n",
      "1598/1598 [==============================] - 2s 1ms/sample - loss: 1.1961 - accuracy: 0.7253\n",
      "Epoch 47/60\n",
      "1598/1598 [==============================] - 2s 1ms/sample - loss: 1.1935 - accuracy: 0.7272\n",
      "Epoch 48/60\n",
      "1598/1598 [==============================] - 2s 993us/sample - loss: 1.1897 - accuracy: 0.7466\n",
      "Epoch 49/60\n",
      "1598/1598 [==============================] - 2s 992us/sample - loss: 1.1747 - accuracy: 0.7434\n",
      "Epoch 50/60\n",
      "1598/1598 [==============================] - 2s 976us/sample - loss: 1.1657 - accuracy: 0.7397\n",
      "Epoch 51/60\n",
      "1598/1598 [==============================] - 2s 1ms/sample - loss: 1.1720 - accuracy: 0.7447\n",
      "Epoch 52/60\n",
      "1598/1598 [==============================] - 1s 937us/sample - loss: 1.2116 - accuracy: 0.7309\n",
      "Epoch 53/60\n",
      "1598/1598 [==============================] - 2s 1ms/sample - loss: 1.1681 - accuracy: 0.7372\n",
      "Epoch 54/60\n",
      "1598/1598 [==============================] - 1s 902us/sample - loss: 1.1660 - accuracy: 0.7315\n",
      "Epoch 55/60\n",
      "1598/1598 [==============================] - 2s 1ms/sample - loss: 1.1414 - accuracy: 0.7416\n",
      "Epoch 56/60\n",
      "1598/1598 [==============================] - 2s 951us/sample - loss: 1.1570 - accuracy: 0.7334\n",
      "Epoch 57/60\n",
      "1598/1598 [==============================] - 1s 932us/sample - loss: 1.1502 - accuracy: 0.7390\n",
      "Epoch 58/60\n",
      "1598/1598 [==============================] - 2s 961us/sample - loss: 1.1311 - accuracy: 0.7278\n",
      "Epoch 59/60\n",
      "1598/1598 [==============================] - 2s 1ms/sample - loss: 1.1409 - accuracy: 0.7340\n",
      "Epoch 60/60\n",
      "1598/1598 [==============================] - 2s 988us/sample - loss: 1.1424 - accuracy: 0.7416\n"
     ]
    },
    {
     "output_type": "execute_result",
     "data": {
      "text/plain": [
       "<tensorflow.python.keras.callbacks.History at 0x1e921e72088>"
      ]
     },
     "metadata": {},
     "execution_count": 22
    }
   ],
   "source": [
    "model.fit(tX_train,y_train,epochs=60)"
   ]
  },
  {
   "cell_type": "code",
   "execution_count": 23,
   "metadata": {
    "tags": []
   },
   "outputs": [
    {
     "output_type": "stream",
     "name": "stdout",
     "text": [
      "10\n10\n"
     ]
    }
   ],
   "source": [
    "predictions  = model.predict(tX_test)\n",
    "preds = []\n",
    "for num in predictions:\n",
    "  score1 = np.round(num[0]) if num[0]>=0 else 0\n",
    "  score2 = np.round(num[1]) if num[1]>=0 else 0\n",
    "  preds.append((score1,score2))\n",
    "\n",
    "len(preds)\n",
    "\n",
    "score1 = []\n",
    "score2 = []\n",
    "\n",
    "for num in preds:\n",
    "  score1.append(num[0])\n",
    "  score2.append(num[1])\n",
    "\n",
    "print(len(score1))\n",
    "print(len(score2))\n",
    "\n",
    "new['Predicted Score 1'] = score1\n",
    "new['Predicted Score 2'] = score2\n",
    "new.to_excel(\"ProjectionsPLGW9_TF.xlsx\")"
   ]
  },
  {
   "cell_type": "code",
   "execution_count": null,
   "metadata": {},
   "outputs": [],
   "source": []
  }
 ],
 "metadata": {
  "kernelspec": {
   "display_name": "Python 3",
   "language": "python",
   "name": "python3"
  },
  "language_info": {
   "codemirror_mode": {
    "name": "ipython",
    "version": 3
   },
   "file_extension": ".py",
   "mimetype": "text/x-python",
   "name": "python",
   "nbconvert_exporter": "python",
   "pygments_lexer": "ipython3",
   "version": "3.7.4-final"
  }
 },
 "nbformat": 4,
 "nbformat_minor": 2
}