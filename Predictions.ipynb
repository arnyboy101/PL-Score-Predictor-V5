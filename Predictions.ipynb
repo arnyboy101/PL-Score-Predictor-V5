{
 "cells": [
  {
   "cell_type": "code",
   "execution_count": 1,
   "metadata": {},
   "outputs": [],
   "source": [
    "import pandas as pd\n",
    "import numpy as np\n",
    "import tensorflow as tf\n",
    "import seaborn as sns\n",
    "import matplotlib.pyplot as plt\n",
    "import tensorflow.keras\n",
    "from tensorflow.keras.layers import *\n",
    "from tensorflow.keras.models import *\n",
    "from sklearn.model_selection import *\n",
    "from sklearn.model_selection import *\n",
    "from sklearn.linear_model import *\n",
    "from sklearn.preprocessing import *\n",
    "from sklearn.ensemble import *\n",
    "from datetime import datetime\n",
    "from tensorflow.keras.callbacks import *"
   ]
  },
  {
   "cell_type": "code",
   "execution_count": 2,
   "metadata": {},
   "outputs": [],
   "source": [
    "df = pd.read_csv(\"./Datasets/GW5/soccer-spi/spi_matches.csv\")"
   ]
  },
  {
   "cell_type": "code",
   "execution_count": 3,
   "metadata": {},
   "outputs": [
    {
     "output_type": "execute_result",
     "data": {
      "text/plain": [
       "   season        date  league_id                   league             team1  \\\n",
       "0    2016  2016-07-09       7921  FA Women's Super League   Liverpool Women   \n",
       "1    2016  2016-07-10       7921  FA Women's Super League     Arsenal Women   \n",
       "2    2016  2016-07-10       7921  FA Women's Super League  Chelsea FC Women   \n",
       "3    2016  2016-07-16       7921  FA Women's Super League   Liverpool Women   \n",
       "4    2016  2016-07-17       7921  FA Women's Super League  Chelsea FC Women   \n",
       "\n",
       "                 team2   spi1   spi2   prob1   prob2  ...  importance1  \\\n",
       "0              Reading  51.56  50.42  0.4389  0.2767  ...          NaN   \n",
       "1  Notts County Ladies  46.61  54.03  0.3572  0.3608  ...          NaN   \n",
       "2      Birmingham City  59.85  54.64  0.4799  0.2487  ...          NaN   \n",
       "3  Notts County Ladies  53.00  52.35  0.4289  0.2699  ...          NaN   \n",
       "4        Arsenal Women  59.43  60.99  0.4124  0.3157  ...          NaN   \n",
       "\n",
       "   importance2  score1  score2  xg1  xg2  nsxg1  nsxg2  adj_score1  adj_score2  \n",
       "0          NaN     2.0     0.0  NaN  NaN    NaN    NaN         NaN         NaN  \n",
       "1          NaN     2.0     0.0  NaN  NaN    NaN    NaN         NaN         NaN  \n",
       "2          NaN     1.0     1.0  NaN  NaN    NaN    NaN         NaN         NaN  \n",
       "3          NaN     0.0     0.0  NaN  NaN    NaN    NaN         NaN         NaN  \n",
       "4          NaN     1.0     2.0  NaN  NaN    NaN    NaN         NaN         NaN  \n",
       "\n",
       "[5 rows x 23 columns]"
      ],
      "text/html": "<div>\n<style scoped>\n    .dataframe tbody tr th:only-of-type {\n        vertical-align: middle;\n    }\n\n    .dataframe tbody tr th {\n        vertical-align: top;\n    }\n\n    .dataframe thead th {\n        text-align: right;\n    }\n</style>\n<table border=\"1\" class=\"dataframe\">\n  <thead>\n    <tr style=\"text-align: right;\">\n      <th></th>\n      <th>season</th>\n      <th>date</th>\n      <th>league_id</th>\n      <th>league</th>\n      <th>team1</th>\n      <th>team2</th>\n      <th>spi1</th>\n      <th>spi2</th>\n      <th>prob1</th>\n      <th>prob2</th>\n      <th>...</th>\n      <th>importance1</th>\n      <th>importance2</th>\n      <th>score1</th>\n      <th>score2</th>\n      <th>xg1</th>\n      <th>xg2</th>\n      <th>nsxg1</th>\n      <th>nsxg2</th>\n      <th>adj_score1</th>\n      <th>adj_score2</th>\n    </tr>\n  </thead>\n  <tbody>\n    <tr>\n      <th>0</th>\n      <td>2016</td>\n      <td>2016-07-09</td>\n      <td>7921</td>\n      <td>FA Women's Super League</td>\n      <td>Liverpool Women</td>\n      <td>Reading</td>\n      <td>51.56</td>\n      <td>50.42</td>\n      <td>0.4389</td>\n      <td>0.2767</td>\n      <td>...</td>\n      <td>NaN</td>\n      <td>NaN</td>\n      <td>2.0</td>\n      <td>0.0</td>\n      <td>NaN</td>\n      <td>NaN</td>\n      <td>NaN</td>\n      <td>NaN</td>\n      <td>NaN</td>\n      <td>NaN</td>\n    </tr>\n    <tr>\n      <th>1</th>\n      <td>2016</td>\n      <td>2016-07-10</td>\n      <td>7921</td>\n      <td>FA Women's Super League</td>\n      <td>Arsenal Women</td>\n      <td>Notts County Ladies</td>\n      <td>46.61</td>\n      <td>54.03</td>\n      <td>0.3572</td>\n      <td>0.3608</td>\n      <td>...</td>\n      <td>NaN</td>\n      <td>NaN</td>\n      <td>2.0</td>\n      <td>0.0</td>\n      <td>NaN</td>\n      <td>NaN</td>\n      <td>NaN</td>\n      <td>NaN</td>\n      <td>NaN</td>\n      <td>NaN</td>\n    </tr>\n    <tr>\n      <th>2</th>\n      <td>2016</td>\n      <td>2016-07-10</td>\n      <td>7921</td>\n      <td>FA Women's Super League</td>\n      <td>Chelsea FC Women</td>\n      <td>Birmingham City</td>\n      <td>59.85</td>\n      <td>54.64</td>\n      <td>0.4799</td>\n      <td>0.2487</td>\n      <td>...</td>\n      <td>NaN</td>\n      <td>NaN</td>\n      <td>1.0</td>\n      <td>1.0</td>\n      <td>NaN</td>\n      <td>NaN</td>\n      <td>NaN</td>\n      <td>NaN</td>\n      <td>NaN</td>\n      <td>NaN</td>\n    </tr>\n    <tr>\n      <th>3</th>\n      <td>2016</td>\n      <td>2016-07-16</td>\n      <td>7921</td>\n      <td>FA Women's Super League</td>\n      <td>Liverpool Women</td>\n      <td>Notts County Ladies</td>\n      <td>53.00</td>\n      <td>52.35</td>\n      <td>0.4289</td>\n      <td>0.2699</td>\n      <td>...</td>\n      <td>NaN</td>\n      <td>NaN</td>\n      <td>0.0</td>\n      <td>0.0</td>\n      <td>NaN</td>\n      <td>NaN</td>\n      <td>NaN</td>\n      <td>NaN</td>\n      <td>NaN</td>\n      <td>NaN</td>\n    </tr>\n    <tr>\n      <th>4</th>\n      <td>2016</td>\n      <td>2016-07-17</td>\n      <td>7921</td>\n      <td>FA Women's Super League</td>\n      <td>Chelsea FC Women</td>\n      <td>Arsenal Women</td>\n      <td>59.43</td>\n      <td>60.99</td>\n      <td>0.4124</td>\n      <td>0.3157</td>\n      <td>...</td>\n      <td>NaN</td>\n      <td>NaN</td>\n      <td>1.0</td>\n      <td>2.0</td>\n      <td>NaN</td>\n      <td>NaN</td>\n      <td>NaN</td>\n      <td>NaN</td>\n      <td>NaN</td>\n      <td>NaN</td>\n    </tr>\n  </tbody>\n</table>\n<p>5 rows × 23 columns</p>\n</div>"
     },
     "metadata": {},
     "execution_count": 3
    }
   ],
   "source": [
    "df.head()"
   ]
  },
  {
   "cell_type": "code",
   "execution_count": 4,
   "metadata": {},
   "outputs": [],
   "source": [
    "def dateconv (dates):\n",
    "  date = datetime.strptime(dates,'%Y-%m-%d') \n",
    "  return date\n",
    "\n",
    "df['date'] = df['date'].apply(lambda x : dateconv(x))"
   ]
  },
  {
   "cell_type": "code",
   "execution_count": 5,
   "metadata": {},
   "outputs": [],
   "source": [
    "last_played = datetime(2020,10,16)\n",
    "GW_end = datetime(2020,10,21)\n",
    "pl = df[df['league']== \"Barclays Premier League\"]\n",
    "old = pl[pl['date']<last_played]\n",
    "new = pl[pl['date']>last_played]\n",
    "new = new[new['date'] < GW_end]"
   ]
  },
  {
   "cell_type": "code",
   "execution_count": 6,
   "metadata": {},
   "outputs": [],
   "source": [
    "teams = pd.get_dummies(new[['team1','team2']])\n",
    "teamsold = pd.get_dummies(old[['team1','team2']])"
   ]
  },
  {
   "cell_type": "code",
   "execution_count": 7,
   "metadata": {},
   "outputs": [],
   "source": [
    "new = pd.concat([new,teams], axis=1)\n",
    "old = pd.concat([old,teamsold], axis=1)"
   ]
  },
  {
   "cell_type": "code",
   "execution_count": 8,
   "metadata": {
    "tags": []
   },
   "outputs": [
    {
     "output_type": "execute_result",
     "data": {
      "text/plain": [
       "Index(['season', 'date', 'league_id', 'league', 'team1', 'team2', 'spi1',\n",
       "       'spi2', 'prob1', 'prob2', 'probtie', 'proj_score1', 'proj_score2',\n",
       "       'importance1', 'importance2', 'score1', 'score2', 'xg1', 'xg2', 'nsxg1',\n",
       "       'nsxg2', 'adj_score1', 'adj_score2', 'team1_Chelsea',\n",
       "       'team1_Crystal Palace', 'team1_Everton', 'team1_Leeds United',\n",
       "       'team1_Leicester City', 'team1_Manchester City', 'team1_Newcastle',\n",
       "       'team1_Sheffield United', 'team1_Tottenham Hotspur',\n",
       "       'team1_West Bromwich Albion', 'team2_Arsenal', 'team2_Aston Villa',\n",
       "       'team2_Brighton and Hove Albion', 'team2_Burnley', 'team2_Fulham',\n",
       "       'team2_Liverpool', 'team2_Manchester United', 'team2_Southampton',\n",
       "       'team2_West Ham United', 'team2_Wolverhampton'],\n",
       "      dtype='object')"
      ]
     },
     "metadata": {},
     "execution_count": 8
    }
   ],
   "source": [
    "new.columns"
   ]
  },
  {
   "cell_type": "code",
   "execution_count": 9,
   "metadata": {},
   "outputs": [],
   "source": [
    "old_teams = old.columns.tolist()\n",
    "new_teams = new.columns.tolist()"
   ]
  },
  {
   "cell_type": "code",
   "execution_count": null,
   "metadata": {},
   "outputs": [],
   "source": []
  },
  {
   "cell_type": "code",
   "execution_count": 10,
   "metadata": {},
   "outputs": [],
   "source": [
    "dropped_columns_old = []\n",
    "dropped_columns_new = []\n",
    "for column in old_teams:\n",
    "    if column not in new_teams:\n",
    "        dropped_columns_old.append(column)\n",
    "for column in new_teams:\n",
    "    if column not in old_teams:\n",
    "        dropped_columns_new.append(column)"
   ]
  },
  {
   "cell_type": "code",
   "execution_count": 11,
   "metadata": {},
   "outputs": [
    {
     "output_type": "execute_result",
     "data": {
      "text/plain": [
       "[]"
      ]
     },
     "metadata": {},
     "execution_count": 11
    }
   ],
   "source": [
    "dropped_columns_new"
   ]
  },
  {
   "cell_type": "code",
   "execution_count": 12,
   "metadata": {},
   "outputs": [],
   "source": [
    "X_train = old[['season', 'spi1', 'spi2', 'score1','score2','prob1', 'prob2', 'probtie', 'proj_score1',\n",
    "       'proj_score2', 'team1_Chelsea',\n",
    "       'team1_Crystal Palace', 'team1_Everton', 'team1_Leeds United',\n",
    "       'team1_Leicester City', 'team1_Manchester City', 'team1_Newcastle',\n",
    "       'team1_Sheffield United', 'team1_Tottenham Hotspur',\n",
    "       'team1_West Bromwich Albion', 'team2_Arsenal', 'team2_Aston Villa',\n",
    "       'team2_Brighton and Hove Albion', 'team2_Burnley', 'team2_Fulham',\n",
    "       'team2_Liverpool', 'team2_Manchester United', 'team2_Southampton',\n",
    "       'team2_West Ham United', 'team2_Wolverhampton']]\n",
    "X_test = new[['season', 'spi1', 'spi2','prob1', 'prob2', 'probtie', 'proj_score1',\n",
    "       'proj_score2','team1_Chelsea',\n",
    "       'team1_Crystal Palace', 'team1_Everton', 'team1_Leeds United',\n",
    "       'team1_Leicester City', 'team1_Manchester City', 'team1_Newcastle',\n",
    "       'team1_Sheffield United', 'team1_Tottenham Hotspur',\n",
    "       'team1_West Bromwich Albion', 'team2_Arsenal', 'team2_Aston Villa',\n",
    "       'team2_Brighton and Hove Albion', 'team2_Burnley', 'team2_Fulham',\n",
    "       'team2_Liverpool', 'team2_Manchester United', 'team2_Southampton',\n",
    "       'team2_West Ham United', 'team2_Wolverhampton']]"
   ]
  },
  {
   "cell_type": "code",
   "execution_count": 13,
   "metadata": {
    "tags": []
   },
   "outputs": [],
   "source": [
    "X_train.dropna(inplace=True)"
   ]
  },
  {
   "cell_type": "code",
   "execution_count": 14,
   "metadata": {},
   "outputs": [],
   "source": [
    "X_test.dropna(inplace=True)"
   ]
  },
  {
   "cell_type": "code",
   "execution_count": 15,
   "metadata": {
    "tags": []
   },
   "outputs": [
    {
     "output_type": "stream",
     "name": "stdout",
     "text": [
      "10\n10\n"
     ]
    }
   ],
   "source": [
    "lm = LinearRegression()\n",
    "lm.fit(X_train.drop(['score1','score2'],axis=1),X_train[['score1','score2']])\n",
    "predictions  = lm.predict(X_test)\n",
    "preds = []\n",
    "for num in predictions:\n",
    "  score1 = np.round(num[0])\n",
    "  score2 = np.round(num[1])\n",
    "  preds.append((score1,score2))\n",
    "\n",
    "len(preds)\n",
    "\n",
    "score1 = []\n",
    "score2 = []\n",
    "\n",
    "for num in preds:\n",
    "  score1.append(num[0])\n",
    "  score2.append(num[1])\n",
    "\n",
    "print(len(score1))\n",
    "print(len(score2))\n",
    "\n",
    "new['Predicted Score 1'] = score1\n",
    "new['Predicted Score 2'] = score2\n",
    "new.to_excel(\"ProjectionsPLGW5_LR.xlsx\")"
   ]
  },
  {
   "cell_type": "code",
   "execution_count": 16,
   "metadata": {},
   "outputs": [],
   "source": [
    "tX_train = X_train.drop(['score1','score2'],axis=1).values\n",
    "tX_test =X_test.values\n",
    "y_train = X_train[['score1','score2']].values"
   ]
  },
  {
   "cell_type": "code",
   "execution_count": 17,
   "metadata": {},
   "outputs": [
    {
     "output_type": "execute_result",
     "data": {
      "text/plain": [
       "(1558, 28)"
      ]
     },
     "metadata": {},
     "execution_count": 17
    }
   ],
   "source": [
    "scaler = MinMaxScaler()\n",
    "tX_train = scaler.fit_transform(tX_train)\n",
    "tX_test = scaler.transform(tX_test)\n",
    "tX_train.shape"
   ]
  },
  {
   "cell_type": "code",
   "execution_count": 18,
   "metadata": {},
   "outputs": [],
   "source": [
    "def two_to_three(array):\n",
    "    array = np.reshape(array, array.shape+(1,))\n",
    "    return array"
   ]
  },
  {
   "cell_type": "code",
   "execution_count": 19,
   "metadata": {
    "tags": []
   },
   "outputs": [
    {
     "output_type": "stream",
     "name": "stdout",
     "text": [
      "(10, 28, 1)\n(1558, 28, 1)\n"
     ]
    }
   ],
   "source": [
    "tX_test = two_to_three(tX_test)\n",
    "tX_train = two_to_three(tX_train)\n",
    "print(tX_test.shape)\n",
    "print(tX_train.shape)"
   ]
  },
  {
   "cell_type": "code",
   "execution_count": 20,
   "metadata": {},
   "outputs": [],
   "source": [
    "model = Sequential()"
   ]
  },
  {
   "cell_type": "code",
   "execution_count": 21,
   "metadata": {},
   "outputs": [],
   "source": [
    "\n",
    "model.add(SimpleRNN(46, return_sequences=True))\n",
    "model.add(SimpleRNN(46, return_sequences=True))\n",
    "model.add(SimpleRNN(46))\n",
    "model.add(Dense(92, activation='relu'))\n",
    "model.add(Dense(2))\n"
   ]
  },
  {
   "cell_type": "code",
   "execution_count": 22,
   "metadata": {},
   "outputs": [],
   "source": [
    "model.compile(optimizer='adam',loss='mean_squared_error',metrics=['accuracy'])"
   ]
  },
  {
   "cell_type": "code",
   "execution_count": 23,
   "metadata": {},
   "outputs": [],
   "source": [
    "early_stop = EarlyStopping(monitor='loss', mode='min', verbose=1, patience=25)"
   ]
  },
  {
   "cell_type": "code",
   "execution_count": 24,
   "metadata": {
    "tags": []
   },
   "outputs": [
    {
     "output_type": "stream",
     "name": "stdout",
     "text": [
      "Train on 1558 samples\n",
      "Epoch 1/60\n",
      "1558/1558 [==============================] - 4s 3ms/sample - loss: 1.5871 - accuracy: 0.6393\n",
      "Epoch 2/60\n",
      "1558/1558 [==============================] - 2s 1ms/sample - loss: 1.3778 - accuracy: 0.6855\n",
      "Epoch 3/60\n",
      "1558/1558 [==============================] - 2s 1ms/sample - loss: 1.3654 - accuracy: 0.7009\n",
      "Epoch 4/60\n",
      "1558/1558 [==============================] - 2s 1ms/sample - loss: 1.3518 - accuracy: 0.6881\n",
      "Epoch 5/60\n",
      "1558/1558 [==============================] - 2s 1ms/sample - loss: 1.3508 - accuracy: 0.7099\n",
      "Epoch 6/60\n",
      "1558/1558 [==============================] - 2s 1ms/sample - loss: 1.3266 - accuracy: 0.7003\n",
      "Epoch 7/60\n",
      "1558/1558 [==============================] - 2s 1ms/sample - loss: 1.3365 - accuracy: 0.6970\n",
      "Epoch 8/60\n",
      "1558/1558 [==============================] - 2s 1ms/sample - loss: 1.3558 - accuracy: 0.7022\n",
      "Epoch 9/60\n",
      "1558/1558 [==============================] - 2s 1ms/sample - loss: 1.3377 - accuracy: 0.6977\n",
      "Epoch 10/60\n",
      "1558/1558 [==============================] - 2s 1ms/sample - loss: 1.3247 - accuracy: 0.7202\n",
      "Epoch 11/60\n",
      "1558/1558 [==============================] - 2s 1ms/sample - loss: 1.3465 - accuracy: 0.7067\n",
      "Epoch 12/60\n",
      "1558/1558 [==============================] - 2s 1ms/sample - loss: 1.3202 - accuracy: 0.7125\n",
      "Epoch 13/60\n",
      "1558/1558 [==============================] - 2s 1ms/sample - loss: 1.3317 - accuracy: 0.6970\n",
      "Epoch 14/60\n",
      "1558/1558 [==============================] - 2s 1ms/sample - loss: 1.3194 - accuracy: 0.7105\n",
      "Epoch 15/60\n",
      "1558/1558 [==============================] - 2s 999us/sample - loss: 1.3064 - accuracy: 0.7067\n",
      "Epoch 16/60\n",
      "1558/1558 [==============================] - 2s 1ms/sample - loss: 1.3081 - accuracy: 0.7157\n",
      "Epoch 17/60\n",
      "1558/1558 [==============================] - 2s 1ms/sample - loss: 1.3055 - accuracy: 0.7137\n",
      "Epoch 18/60\n",
      "1558/1558 [==============================] - 2s 1ms/sample - loss: 1.3196 - accuracy: 0.7246\n",
      "Epoch 19/60\n",
      "1558/1558 [==============================] - 2s 1ms/sample - loss: 1.2959 - accuracy: 0.7137\n",
      "Epoch 20/60\n",
      "1558/1558 [==============================] - 2s 997us/sample - loss: 1.3062 - accuracy: 0.7176\n",
      "Epoch 21/60\n",
      "1558/1558 [==============================] - 2s 1ms/sample - loss: 1.3110 - accuracy: 0.7157\n",
      "Epoch 22/60\n",
      "1558/1558 [==============================] - 2s 1ms/sample - loss: 1.2813 - accuracy: 0.7195\n",
      "Epoch 23/60\n",
      "1558/1558 [==============================] - 2s 1ms/sample - loss: 1.2820 - accuracy: 0.7022\n",
      "Epoch 24/60\n",
      "1558/1558 [==============================] - 2s 2ms/sample - loss: 1.3012 - accuracy: 0.7246\n",
      "Epoch 25/60\n",
      "1558/1558 [==============================] - 3s 2ms/sample - loss: 1.2740 - accuracy: 0.7176\n",
      "Epoch 26/60\n",
      "1558/1558 [==============================] - 2s 1ms/sample - loss: 1.2845 - accuracy: 0.7169\n",
      "Epoch 27/60\n",
      "1558/1558 [==============================] - 2s 1ms/sample - loss: 1.2754 - accuracy: 0.7272\n",
      "Epoch 28/60\n",
      "1558/1558 [==============================] - 2s 1ms/sample - loss: 1.2532 - accuracy: 0.7227\n",
      "Epoch 29/60\n",
      "1558/1558 [==============================] - 2s 1ms/sample - loss: 1.2834 - accuracy: 0.7279\n",
      "Epoch 30/60\n",
      "1558/1558 [==============================] - 2s 1ms/sample - loss: 1.2670 - accuracy: 0.7144\n",
      "Epoch 31/60\n",
      "1558/1558 [==============================] - 2s 1ms/sample - loss: 1.2812 - accuracy: 0.7221\n",
      "Epoch 32/60\n",
      "1558/1558 [==============================] - 2s 1ms/sample - loss: 1.2517 - accuracy: 0.7214\n",
      "Epoch 33/60\n",
      "1558/1558 [==============================] - 2s 1ms/sample - loss: 1.2480 - accuracy: 0.7227\n",
      "Epoch 34/60\n",
      "1558/1558 [==============================] - 2s 1ms/sample - loss: 1.2539 - accuracy: 0.7227\n",
      "Epoch 35/60\n",
      "1558/1558 [==============================] - 2s 1ms/sample - loss: 1.2414 - accuracy: 0.7105\n",
      "Epoch 36/60\n",
      "1558/1558 [==============================] - 2s 1ms/sample - loss: 1.2259 - accuracy: 0.7131\n",
      "Epoch 37/60\n",
      "1558/1558 [==============================] - 2s 1ms/sample - loss: 1.2418 - accuracy: 0.7304\n",
      "Epoch 38/60\n",
      "1558/1558 [==============================] - 2s 993us/sample - loss: 1.2400 - accuracy: 0.7176\n",
      "Epoch 39/60\n",
      "1558/1558 [==============================] - 2s 1ms/sample - loss: 1.2349 - accuracy: 0.7272\n",
      "Epoch 40/60\n",
      "1558/1558 [==============================] - 2s 1ms/sample - loss: 1.2164 - accuracy: 0.7182\n",
      "Epoch 41/60\n",
      "1558/1558 [==============================] - 2s 969us/sample - loss: 1.2155 - accuracy: 0.7189\n",
      "Epoch 42/60\n",
      "1558/1558 [==============================] - 2s 1ms/sample - loss: 1.2134 - accuracy: 0.7195\n",
      "Epoch 43/60\n",
      "1558/1558 [==============================] - 2s 1ms/sample - loss: 1.2112 - accuracy: 0.7330\n",
      "Epoch 44/60\n",
      "1558/1558 [==============================] - 2s 1ms/sample - loss: 1.1956 - accuracy: 0.7176\n",
      "Epoch 45/60\n",
      "1558/1558 [==============================] - 1s 949us/sample - loss: 1.2177 - accuracy: 0.7112\n",
      "Epoch 46/60\n",
      "1558/1558 [==============================] - 2s 980us/sample - loss: 1.2000 - accuracy: 0.7240\n",
      "Epoch 47/60\n",
      "1558/1558 [==============================] - 2s 1ms/sample - loss: 1.1802 - accuracy: 0.7195\n",
      "Epoch 48/60\n",
      "1558/1558 [==============================] - 2s 1ms/sample - loss: 1.1824 - accuracy: 0.7259\n",
      "Epoch 49/60\n",
      "1558/1558 [==============================] - 2s 1ms/sample - loss: 1.1863 - accuracy: 0.7054\n",
      "Epoch 50/60\n",
      "1558/1558 [==============================] - 2s 1ms/sample - loss: 1.1807 - accuracy: 0.7343\n",
      "Epoch 51/60\n",
      "1558/1558 [==============================] - 2s 1ms/sample - loss: 1.1677 - accuracy: 0.7176\n",
      "Epoch 52/60\n",
      "1558/1558 [==============================] - 2s 1ms/sample - loss: 1.1785 - accuracy: 0.7259\n",
      "Epoch 53/60\n",
      "1558/1558 [==============================] - 2s 1ms/sample - loss: 1.1733 - accuracy: 0.7234\n",
      "Epoch 54/60\n",
      "1558/1558 [==============================] - 2s 1ms/sample - loss: 1.1674 - accuracy: 0.7195\n",
      "Epoch 55/60\n",
      "1558/1558 [==============================] - 2s 1ms/sample - loss: 1.1376 - accuracy: 0.7336\n",
      "Epoch 56/60\n",
      "1558/1558 [==============================] - 2s 1ms/sample - loss: 1.1549 - accuracy: 0.7202\n",
      "Epoch 57/60\n",
      "1558/1558 [==============================] - 2s 1ms/sample - loss: 1.1365 - accuracy: 0.7388\n",
      "Epoch 58/60\n",
      "1558/1558 [==============================] - 3s 2ms/sample - loss: 1.1402 - accuracy: 0.7189\n",
      "Epoch 59/60\n",
      "1558/1558 [==============================] - 2s 1ms/sample - loss: 1.1324 - accuracy: 0.7394\n",
      "Epoch 60/60\n",
      "1558/1558 [==============================] - 2s 1ms/sample - loss: 1.1135 - accuracy: 0.7323\n"
     ]
    },
    {
     "output_type": "execute_result",
     "data": {
      "text/plain": [
       "<tensorflow.python.keras.callbacks.History at 0x296659dbc48>"
      ]
     },
     "metadata": {},
     "execution_count": 24
    }
   ],
   "source": [
    "model.fit(tX_train,y_train,epochs=60)"
   ]
  },
  {
   "cell_type": "code",
   "execution_count": 25,
   "metadata": {
    "tags": []
   },
   "outputs": [
    {
     "output_type": "stream",
     "name": "stdout",
     "text": [
      "10\n10\n"
     ]
    }
   ],
   "source": [
    "predictions  = model.predict(tX_test)\n",
    "preds = []\n",
    "for num in predictions:\n",
    "  score1 = np.round(num[0]) if num[0]>=0 else 0\n",
    "  score2 = np.round(num[1]) if num[1]>=0 else 0\n",
    "  preds.append((score1,score2))\n",
    "\n",
    "len(preds)\n",
    "\n",
    "score1 = []\n",
    "score2 = []\n",
    "\n",
    "for num in preds:\n",
    "  score1.append(num[0])\n",
    "  score2.append(num[1])\n",
    "\n",
    "print(len(score1))\n",
    "print(len(score2))\n",
    "\n",
    "new['Predicted Score 1'] = score1\n",
    "new['Predicted Score 2'] = score2\n",
    "new.to_excel(\"ProjectionsPLGW5_TF.xlsx\")"
   ]
  },
  {
   "cell_type": "code",
   "execution_count": null,
   "metadata": {},
   "outputs": [],
   "source": []
  }
 ],
 "metadata": {
  "kernelspec": {
   "display_name": "Python 3",
   "language": "python",
   "name": "python3"
  },
  "language_info": {
   "codemirror_mode": {
    "name": "ipython",
    "version": 3
   },
   "file_extension": ".py",
   "mimetype": "text/x-python",
   "name": "python",
   "nbconvert_exporter": "python",
   "pygments_lexer": "ipython3",
   "version": "3.7.4-final"
  }
 },
 "nbformat": 4,
 "nbformat_minor": 2
}