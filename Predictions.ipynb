{
 "cells": [
  {
   "cell_type": "code",
   "execution_count": 1,
   "metadata": {},
   "outputs": [],
   "source": [
    "import pandas as pd\n",
    "import numpy as np\n",
    "import tensorflow as tf\n",
    "import seaborn as sns\n",
    "import matplotlib.pyplot as plt\n",
    "import tensorflow.keras\n",
    "from tensorflow.keras.layers import *\n",
    "from tensorflow.keras.models import *\n",
    "from sklearn.model_selection import *\n",
    "from sklearn.model_selection import *\n",
    "from sklearn.linear_model import *\n",
    "from sklearn.preprocessing import *\n",
    "from sklearn.ensemble import *\n",
    "from datetime import datetime\n",
    "from tensorflow.keras.callbacks import *"
   ]
  },
  {
   "cell_type": "code",
   "execution_count": 2,
   "metadata": {},
   "outputs": [],
   "source": [
    "df = pd.read_csv(\"./Datasets/GW3/soccer-spi/spi_matches.csv\")"
   ]
  },
  {
   "cell_type": "code",
   "execution_count": 3,
   "metadata": {},
   "outputs": [
    {
     "output_type": "execute_result",
     "data": {
      "text/plain": "   season        date  league_id                   league             team1  \\\n0    2016  2016-07-09       7921  FA Women's Super League   Liverpool Women   \n1    2016  2016-07-10       7921  FA Women's Super League     Arsenal Women   \n2    2016  2016-07-10       7921  FA Women's Super League  Chelsea FC Women   \n3    2016  2016-07-16       7921  FA Women's Super League   Liverpool Women   \n4    2016  2016-07-17       7921  FA Women's Super League  Chelsea FC Women   \n\n                 team2   spi1   spi2   prob1   prob2  ...  importance1  \\\n0              Reading  51.56  50.42  0.4389  0.2767  ...          NaN   \n1  Notts County Ladies  46.61  54.03  0.3572  0.3608  ...          NaN   \n2      Birmingham City  59.85  54.64  0.4799  0.2487  ...          NaN   \n3  Notts County Ladies  53.00  52.35  0.4289  0.2699  ...          NaN   \n4        Arsenal Women  59.43  60.99  0.4124  0.3157  ...          NaN   \n\n   importance2  score1  score2  xg1  xg2  nsxg1  nsxg2  adj_score1  adj_score2  \n0          NaN     2.0     0.0  NaN  NaN    NaN    NaN         NaN         NaN  \n1          NaN     2.0     0.0  NaN  NaN    NaN    NaN         NaN         NaN  \n2          NaN     1.0     1.0  NaN  NaN    NaN    NaN         NaN         NaN  \n3          NaN     0.0     0.0  NaN  NaN    NaN    NaN         NaN         NaN  \n4          NaN     1.0     2.0  NaN  NaN    NaN    NaN         NaN         NaN  \n\n[5 rows x 23 columns]",
      "text/html": "<div>\n<style scoped>\n    .dataframe tbody tr th:only-of-type {\n        vertical-align: middle;\n    }\n\n    .dataframe tbody tr th {\n        vertical-align: top;\n    }\n\n    .dataframe thead th {\n        text-align: right;\n    }\n</style>\n<table border=\"1\" class=\"dataframe\">\n  <thead>\n    <tr style=\"text-align: right;\">\n      <th></th>\n      <th>season</th>\n      <th>date</th>\n      <th>league_id</th>\n      <th>league</th>\n      <th>team1</th>\n      <th>team2</th>\n      <th>spi1</th>\n      <th>spi2</th>\n      <th>prob1</th>\n      <th>prob2</th>\n      <th>...</th>\n      <th>importance1</th>\n      <th>importance2</th>\n      <th>score1</th>\n      <th>score2</th>\n      <th>xg1</th>\n      <th>xg2</th>\n      <th>nsxg1</th>\n      <th>nsxg2</th>\n      <th>adj_score1</th>\n      <th>adj_score2</th>\n    </tr>\n  </thead>\n  <tbody>\n    <tr>\n      <th>0</th>\n      <td>2016</td>\n      <td>2016-07-09</td>\n      <td>7921</td>\n      <td>FA Women's Super League</td>\n      <td>Liverpool Women</td>\n      <td>Reading</td>\n      <td>51.56</td>\n      <td>50.42</td>\n      <td>0.4389</td>\n      <td>0.2767</td>\n      <td>...</td>\n      <td>NaN</td>\n      <td>NaN</td>\n      <td>2.0</td>\n      <td>0.0</td>\n      <td>NaN</td>\n      <td>NaN</td>\n      <td>NaN</td>\n      <td>NaN</td>\n      <td>NaN</td>\n      <td>NaN</td>\n    </tr>\n    <tr>\n      <th>1</th>\n      <td>2016</td>\n      <td>2016-07-10</td>\n      <td>7921</td>\n      <td>FA Women's Super League</td>\n      <td>Arsenal Women</td>\n      <td>Notts County Ladies</td>\n      <td>46.61</td>\n      <td>54.03</td>\n      <td>0.3572</td>\n      <td>0.3608</td>\n      <td>...</td>\n      <td>NaN</td>\n      <td>NaN</td>\n      <td>2.0</td>\n      <td>0.0</td>\n      <td>NaN</td>\n      <td>NaN</td>\n      <td>NaN</td>\n      <td>NaN</td>\n      <td>NaN</td>\n      <td>NaN</td>\n    </tr>\n    <tr>\n      <th>2</th>\n      <td>2016</td>\n      <td>2016-07-10</td>\n      <td>7921</td>\n      <td>FA Women's Super League</td>\n      <td>Chelsea FC Women</td>\n      <td>Birmingham City</td>\n      <td>59.85</td>\n      <td>54.64</td>\n      <td>0.4799</td>\n      <td>0.2487</td>\n      <td>...</td>\n      <td>NaN</td>\n      <td>NaN</td>\n      <td>1.0</td>\n      <td>1.0</td>\n      <td>NaN</td>\n      <td>NaN</td>\n      <td>NaN</td>\n      <td>NaN</td>\n      <td>NaN</td>\n      <td>NaN</td>\n    </tr>\n    <tr>\n      <th>3</th>\n      <td>2016</td>\n      <td>2016-07-16</td>\n      <td>7921</td>\n      <td>FA Women's Super League</td>\n      <td>Liverpool Women</td>\n      <td>Notts County Ladies</td>\n      <td>53.00</td>\n      <td>52.35</td>\n      <td>0.4289</td>\n      <td>0.2699</td>\n      <td>...</td>\n      <td>NaN</td>\n      <td>NaN</td>\n      <td>0.0</td>\n      <td>0.0</td>\n      <td>NaN</td>\n      <td>NaN</td>\n      <td>NaN</td>\n      <td>NaN</td>\n      <td>NaN</td>\n      <td>NaN</td>\n    </tr>\n    <tr>\n      <th>4</th>\n      <td>2016</td>\n      <td>2016-07-17</td>\n      <td>7921</td>\n      <td>FA Women's Super League</td>\n      <td>Chelsea FC Women</td>\n      <td>Arsenal Women</td>\n      <td>59.43</td>\n      <td>60.99</td>\n      <td>0.4124</td>\n      <td>0.3157</td>\n      <td>...</td>\n      <td>NaN</td>\n      <td>NaN</td>\n      <td>1.0</td>\n      <td>2.0</td>\n      <td>NaN</td>\n      <td>NaN</td>\n      <td>NaN</td>\n      <td>NaN</td>\n      <td>NaN</td>\n      <td>NaN</td>\n    </tr>\n  </tbody>\n</table>\n<p>5 rows × 23 columns</p>\n</div>"
     },
     "metadata": {},
     "execution_count": 3
    }
   ],
   "source": [
    "df.head()"
   ]
  },
  {
   "cell_type": "code",
   "execution_count": 5,
   "metadata": {},
   "outputs": [],
   "source": [
    "def dateconv (dates):\n",
    "  date = datetime.strptime(dates,'%Y-%m-%d') \n",
    "  return date\n",
    "\n",
    "df['date'] = df['date'].apply(lambda x : dateconv(x))"
   ]
  },
  {
   "cell_type": "code",
   "execution_count": 74,
   "metadata": {},
   "outputs": [],
   "source": [
    "last_played = datetime(2020,9,25)\n",
    "GW_end = datetime(2020,9,29)\n",
    "pl = df[df['league']== \"Barclays Premier League\"]\n",
    "old = pl[pl['date']<last_played]\n",
    "new = pl[pl['date']>last_played]\n",
    "new = new[new['date'] < GW_end]"
   ]
  },
  {
   "cell_type": "code",
   "execution_count": 75,
   "metadata": {},
   "outputs": [],
   "source": [
    "teams = pd.get_dummies(new[['team1','team2']])\n",
    "teamsold = pd.get_dummies(old[['team1','team2']])"
   ]
  },
  {
   "cell_type": "code",
   "execution_count": 76,
   "metadata": {},
   "outputs": [],
   "source": [
    "new = pd.concat([new,teams], axis=1)\n",
    "old = pd.concat([old,teamsold], axis=1)"
   ]
  },
  {
   "cell_type": "code",
   "execution_count": 77,
   "metadata": {
    "tags": []
   },
   "outputs": [
    {
     "output_type": "stream",
     "name": "stdout",
     "text": "<class 'pandas.core.frame.DataFrame'>\nInt64Index: 10 entries, 34586 to 34823\nData columns (total 43 columns):\n #   Column                          Non-Null Count  Dtype         \n---  ------                          --------------  -----         \n 0   season                          10 non-null     int64         \n 1   date                            10 non-null     datetime64[ns]\n 2   league_id                       10 non-null     int64         \n 3   league                          10 non-null     object        \n 4   team1                           10 non-null     object        \n 5   team2                           10 non-null     object        \n 6   spi1                            10 non-null     float64       \n 7   spi2                            10 non-null     float64       \n 8   prob1                           10 non-null     float64       \n 9   prob2                           10 non-null     float64       \n 10  probtie                         10 non-null     float64       \n 11  proj_score1                     10 non-null     float64       \n 12  proj_score2                     10 non-null     float64       \n 13  importance1                     10 non-null     float64       \n 14  importance2                     10 non-null     float64       \n 15  score1                          0 non-null      float64       \n 16  score2                          0 non-null      float64       \n 17  xg1                             0 non-null      float64       \n 18  xg2                             0 non-null      float64       \n 19  nsxg1                           0 non-null      float64       \n 20  nsxg2                           0 non-null      float64       \n 21  adj_score1                      0 non-null      float64       \n 22  adj_score2                      0 non-null      float64       \n 23  team1_Brighton and Hove Albion  10 non-null     uint8         \n 24  team1_Burnley                   10 non-null     uint8         \n 25  team1_Crystal Palace            10 non-null     uint8         \n 26  team1_Fulham                    10 non-null     uint8         \n 27  team1_Liverpool                 10 non-null     uint8         \n 28  team1_Manchester City           10 non-null     uint8         \n 29  team1_Sheffield United          10 non-null     uint8         \n 30  team1_Tottenham Hotspur         10 non-null     uint8         \n 31  team1_West Bromwich Albion      10 non-null     uint8         \n 32  team1_West Ham United           10 non-null     uint8         \n 33  team2_Arsenal                   10 non-null     uint8         \n 34  team2_Aston Villa               10 non-null     uint8         \n 35  team2_Chelsea                   10 non-null     uint8         \n 36  team2_Everton                   10 non-null     uint8         \n 37  team2_Leeds United              10 non-null     uint8         \n 38  team2_Leicester City            10 non-null     uint8         \n 39  team2_Manchester United         10 non-null     uint8         \n 40  team2_Newcastle                 10 non-null     uint8         \n 41  team2_Southampton               10 non-null     uint8         \n 42  team2_Wolverhampton             10 non-null     uint8         \ndtypes: datetime64[ns](1), float64(17), int64(2), object(3), uint8(20)\nmemory usage: 2.4+ KB\n"
    }
   ],
   "source": [
    "new.info()"
   ]
  },
  {
   "cell_type": "code",
   "execution_count": 49,
   "metadata": {},
   "outputs": [],
   "source": [
    "old_teams = old.columns.tolist()\n",
    "new_teams = new.columns.tolist()"
   ]
  },
  {
   "cell_type": "code",
   "execution_count": null,
   "metadata": {},
   "outputs": [],
   "source": []
  },
  {
   "cell_type": "code",
   "execution_count": 50,
   "metadata": {},
   "outputs": [],
   "source": [
    "dropped_columns_old = []\n",
    "dropped_columns_new = []\n",
    "for column in old_teams:\n",
    "    if column not in new_teams:\n",
    "        dropped_columns_old.append(column)\n",
    "for column in new_teams:\n",
    "    if column not in old_teams:\n",
    "        dropped_columns_new.append(column)"
   ]
  },
  {
   "cell_type": "code",
   "execution_count": 51,
   "metadata": {},
   "outputs": [
    {
     "output_type": "execute_result",
     "data": {
      "text/plain": "[]"
     },
     "metadata": {},
     "execution_count": 51
    }
   ],
   "source": [
    "dropped_columns_new"
   ]
  },
  {
   "cell_type": "code",
   "execution_count": 78,
   "metadata": {},
   "outputs": [],
   "source": [
    "X_train = old[['season', 'spi1', 'spi2', 'score1','score2','prob1', 'prob2', 'probtie', 'proj_score1',\n",
    "       'proj_score2', 'team1_Brighton and Hove Albion', 'team1_Burnley',\n",
    "       'team1_Crystal Palace', 'team1_Fulham', 'team1_Liverpool',\n",
    "       'team1_Manchester City', 'team1_Sheffield United',\n",
    "       'team1_Tottenham Hotspur', 'team1_West Bromwich Albion',\n",
    "       'team1_West Ham United', 'team2_Arsenal', 'team2_Aston Villa',\n",
    "       'team2_Chelsea', 'team2_Everton', 'team2_Leeds United',\n",
    "       'team2_Leicester City', 'team2_Manchester United', 'team2_Newcastle',\n",
    "       'team2_Southampton', 'team2_Wolverhampton']]\n",
    "X_test = new[['season', 'spi1', 'spi2','prob1', 'prob2', 'probtie', 'proj_score1',\n",
    "       'proj_score2','team1_Brighton and Hove Albion', 'team1_Burnley',\n",
    "       'team1_Crystal Palace', 'team1_Fulham', 'team1_Liverpool',\n",
    "       'team1_Manchester City', 'team1_Sheffield United',\n",
    "       'team1_Tottenham Hotspur', 'team1_West Bromwich Albion',\n",
    "       'team1_West Ham United', 'team2_Arsenal', 'team2_Aston Villa',\n",
    "       'team2_Chelsea', 'team2_Everton', 'team2_Leeds United',\n",
    "       'team2_Leicester City', 'team2_Manchester United', 'team2_Newcastle',\n",
    "       'team2_Southampton', 'team2_Wolverhampton']]"
   ]
  },
  {
   "cell_type": "code",
   "execution_count": 81,
   "metadata": {
    "tags": []
   },
   "outputs": [],
   "source": [
    "X_train.dropna(inplace=True)"
   ]
  },
  {
   "cell_type": "code",
   "execution_count": 83,
   "metadata": {},
   "outputs": [],
   "source": [
    "X_test.dropna(inplace=True)"
   ]
  },
  {
   "cell_type": "code",
   "execution_count": 85,
   "metadata": {
    "tags": []
   },
   "outputs": [
    {
     "output_type": "stream",
     "name": "stdout",
     "text": "10\n10\n"
    }
   ],
   "source": [
    "lm = LinearRegression()\n",
    "lm.fit(X_train.drop(['score1','score2'],axis=1),X_train[['score1','score2']])\n",
    "predictions  = lm.predict(X_test)\n",
    "preds = []\n",
    "for num in predictions:\n",
    "  score1 = np.round(num[0])\n",
    "  score2 = np.round(num[1])\n",
    "  preds.append((score1,score2))\n",
    "\n",
    "len(preds)\n",
    "\n",
    "score1 = []\n",
    "score2 = []\n",
    "\n",
    "for num in preds:\n",
    "  score1.append(num[0])\n",
    "  score2.append(num[1])\n",
    "\n",
    "print(len(score1))\n",
    "print(len(score2))\n",
    "\n",
    "new['Predicted Score 1'] = score1\n",
    "new['Predicted Score 2'] = score2\n",
    "new.to_excel(\"ProjectionsPLGW3_LR.xlsx\")"
   ]
  },
  {
   "cell_type": "code",
   "execution_count": 90,
   "metadata": {},
   "outputs": [],
   "source": [
    "tX_train = X_train.drop(['score1','score2'],axis=1).values\n",
    "tX_test =X_test.values\n",
    "y_train = X_train[['score1','score2']].values"
   ]
  },
  {
   "cell_type": "code",
   "execution_count": 91,
   "metadata": {},
   "outputs": [
    {
     "output_type": "execute_result",
     "data": {
      "text/plain": "(1538, 28)"
     },
     "metadata": {},
     "execution_count": 91
    }
   ],
   "source": [
    "scaler = MinMaxScaler()\n",
    "tX_train = scaler.fit_transform(tX_train)\n",
    "tX_test = scaler.transform(tX_test)\n",
    "tX_train.shape"
   ]
  },
  {
   "cell_type": "code",
   "execution_count": 92,
   "metadata": {},
   "outputs": [],
   "source": [
    "def two_to_three(array):\n",
    "    array = np.reshape(array, array.shape+(1,))\n",
    "    return array"
   ]
  },
  {
   "cell_type": "code",
   "execution_count": 93,
   "metadata": {
    "tags": []
   },
   "outputs": [
    {
     "output_type": "stream",
     "name": "stdout",
     "text": "(10, 28, 1)\n(1538, 28, 1)\n"
    }
   ],
   "source": [
    "tX_test = two_to_three(tX_test)\n",
    "tX_train = two_to_three(tX_train)\n",
    "print(tX_test.shape)\n",
    "print(tX_train.shape)"
   ]
  },
  {
   "cell_type": "code",
   "execution_count": 114,
   "metadata": {},
   "outputs": [],
   "source": [
    "model = Sequential()"
   ]
  },
  {
   "cell_type": "code",
   "execution_count": 115,
   "metadata": {},
   "outputs": [],
   "source": [
    "\n",
    "model.add(SimpleRNN(46, return_sequences=True))\n",
    "model.add(SimpleRNN(46, return_sequences=True))\n",
    "model.add(SimpleRNN(46))\n",
    "model.add(Dense(92, activation='relu'))\n",
    "model.add(Dense(2))\n"
   ]
  },
  {
   "cell_type": "code",
   "execution_count": 116,
   "metadata": {},
   "outputs": [],
   "source": [
    "model.compile(optimizer='adam',loss='mean_squared_error',metrics=['accuracy'])"
   ]
  },
  {
   "cell_type": "code",
   "execution_count": 117,
   "metadata": {},
   "outputs": [],
   "source": [
    "early_stop = EarlyStopping(monitor='loss', mode='min', verbose=1, patience=25)"
   ]
  },
  {
   "cell_type": "code",
   "execution_count": 118,
   "metadata": {
    "tags": []
   },
   "outputs": [
    {
     "output_type": "stream",
     "name": "stdout",
     "text": "Train on 1538 samples\nEpoch 1/60\n1538/1538 [==============================] - 4s 3ms/sample - loss: 1.5709 - accuracy: 0.6853\nEpoch 2/60\n1538/1538 [==============================] - 1s 861us/sample - loss: 1.3719 - accuracy: 0.6905\nEpoch 3/60\n1538/1538 [==============================] - 2s 2ms/sample - loss: 1.3269 - accuracy: 0.7165\nEpoch 4/60\n1538/1538 [==============================] - 3s 2ms/sample - loss: 1.3426 - accuracy: 0.7035\nEpoch 5/60\n1538/1538 [==============================] - 2s 1ms/sample - loss: 1.3410 - accuracy: 0.7087\nEpoch 6/60\n1538/1538 [==============================] - 1s 913us/sample - loss: 1.3225 - accuracy: 0.7224\nEpoch 7/60\n1538/1538 [==============================] - 2s 1ms/sample - loss: 1.3119 - accuracy: 0.7068\nEpoch 8/60\n1538/1538 [==============================] - 1s 923us/sample - loss: 1.3216 - accuracy: 0.7159\nEpoch 9/60\n1538/1538 [==============================] - 2s 991us/sample - loss: 1.3158 - accuracy: 0.7009\nEpoch 10/60\n1538/1538 [==============================] - 2s 1ms/sample - loss: 1.3364 - accuracy: 0.7159\nEpoch 11/60\n1538/1538 [==============================] - 2s 1ms/sample - loss: 1.3097 - accuracy: 0.7152\nEpoch 12/60\n1538/1538 [==============================] - 1s 957us/sample - loss: 1.3049 - accuracy: 0.7243\nEpoch 13/60\n1538/1538 [==============================] - 1s 957us/sample - loss: 1.3206 - accuracy: 0.7009\nEpoch 14/60\n1538/1538 [==============================] - 2s 988us/sample - loss: 1.3154 - accuracy: 0.7048\nEpoch 15/60\n1538/1538 [==============================] - 2s 1ms/sample - loss: 1.3261 - accuracy: 0.7204\nEpoch 16/60\n1538/1538 [==============================] - 2s 1ms/sample - loss: 1.3336 - accuracy: 0.7048\nEpoch 17/60\n1538/1538 [==============================] - 2s 1ms/sample - loss: 1.3264 - accuracy: 0.7204\nEpoch 18/60\n1538/1538 [==============================] - 2s 1ms/sample - loss: 1.2955 - accuracy: 0.7178\nEpoch 19/60\n1538/1538 [==============================] - 2s 1ms/sample - loss: 1.3198 - accuracy: 0.7094\nEpoch 20/60\n1538/1538 [==============================] - 2s 1ms/sample - loss: 1.3041 - accuracy: 0.7126\nEpoch 21/60\n1538/1538 [==============================] - 2s 1ms/sample - loss: 1.3226 - accuracy: 0.7120\nEpoch 22/60\n1538/1538 [==============================] - 2s 2ms/sample - loss: 1.2907 - accuracy: 0.7237\nEpoch 23/60\n1538/1538 [==============================] - 2s 1ms/sample - loss: 1.3192 - accuracy: 0.7126\nEpoch 24/60\n1538/1538 [==============================] - 2s 1ms/sample - loss: 1.2849 - accuracy: 0.7328\nEpoch 25/60\n1538/1538 [==============================] - 2s 1ms/sample - loss: 1.2902 - accuracy: 0.7230\nEpoch 26/60\n1538/1538 [==============================] - 2s 1ms/sample - loss: 1.3044 - accuracy: 0.7198\nEpoch 27/60\n1538/1538 [==============================] - 2s 1ms/sample - loss: 1.2790 - accuracy: 0.7328\nEpoch 28/60\n1538/1538 [==============================] - 2s 1ms/sample - loss: 1.2687 - accuracy: 0.7289\nEpoch 29/60\n1538/1538 [==============================] - 2s 1ms/sample - loss: 1.2702 - accuracy: 0.7432\nEpoch 30/60\n1538/1538 [==============================] - 1s 900us/sample - loss: 1.2772 - accuracy: 0.7094\nEpoch 31/60\n1538/1538 [==============================] - 1s 896us/sample - loss: 1.2865 - accuracy: 0.7094\nEpoch 32/60\n1538/1538 [==============================] - 1s 835us/sample - loss: 1.3091 - accuracy: 0.7211\nEpoch 33/60\n1538/1538 [==============================] - 1s 962us/sample - loss: 1.3027 - accuracy: 0.7113\nEpoch 34/60\n1538/1538 [==============================] - 1s 854us/sample - loss: 1.2868 - accuracy: 0.7172\nEpoch 35/60\n1538/1538 [==============================] - 1s 861us/sample - loss: 1.2832 - accuracy: 0.7139\nEpoch 36/60\n1538/1538 [==============================] - 1s 824us/sample - loss: 1.2733 - accuracy: 0.7217\nEpoch 37/60\n1538/1538 [==============================] - 1s 961us/sample - loss: 1.2728 - accuracy: 0.7211\nEpoch 38/60\n1538/1538 [==============================] - 3s 2ms/sample - loss: 1.2880 - accuracy: 0.7276\nEpoch 39/60\n1538/1538 [==============================] - 1s 924us/sample - loss: 1.3134 - accuracy: 0.7139\nEpoch 40/60\n1538/1538 [==============================] - 1s 846us/sample - loss: 1.2642 - accuracy: 0.7204\nEpoch 41/60\n1538/1538 [==============================] - 1s 872us/sample - loss: 1.2796 - accuracy: 0.7341\nEpoch 42/60\n1538/1538 [==============================] - 1s 915us/sample - loss: 1.2555 - accuracy: 0.7211\nEpoch 43/60\n1538/1538 [==============================] - 1s 809us/sample - loss: 1.2428 - accuracy: 0.7302\nEpoch 44/60\n1538/1538 [==============================] - 1s 886us/sample - loss: 1.2436 - accuracy: 0.7269\nEpoch 45/60\n1538/1538 [==============================] - 1s 835us/sample - loss: 1.2684 - accuracy: 0.7185\nEpoch 46/60\n1538/1538 [==============================] - 1s 913us/sample - loss: 1.2535 - accuracy: 0.7198\nEpoch 47/60\n1538/1538 [==============================] - 1s 894us/sample - loss: 1.2496 - accuracy: 0.7191\nEpoch 48/60\n1538/1538 [==============================] - 1s 966us/sample - loss: 1.2572 - accuracy: 0.7289\nEpoch 49/60\n1538/1538 [==============================] - 1s 861us/sample - loss: 1.2567 - accuracy: 0.7230\nEpoch 50/60\n1538/1538 [==============================] - 2s 1ms/sample - loss: 1.2567 - accuracy: 0.7308\nEpoch 51/60\n1538/1538 [==============================] - 1s 958us/sample - loss: 1.2612 - accuracy: 0.7269\nEpoch 52/60\n1538/1538 [==============================] - 1s 845us/sample - loss: 1.2516 - accuracy: 0.7308\nEpoch 53/60\n1538/1538 [==============================] - 1s 823us/sample - loss: 1.2253 - accuracy: 0.7276\nEpoch 54/60\n1538/1538 [==============================] - 1s 897us/sample - loss: 1.2277 - accuracy: 0.7354\nEpoch 55/60\n1538/1538 [==============================] - 1s 931us/sample - loss: 1.2254 - accuracy: 0.7243\nEpoch 56/60\n1538/1538 [==============================] - 1s 852us/sample - loss: 1.2169 - accuracy: 0.7308\nEpoch 57/60\n1538/1538 [==============================] - 1s 820us/sample - loss: 1.2128 - accuracy: 0.7250\nEpoch 58/60\n1538/1538 [==============================] - 1s 927us/sample - loss: 1.2076 - accuracy: 0.7360\nEpoch 59/60\n1538/1538 [==============================] - 1s 912us/sample - loss: 1.1914 - accuracy: 0.7321\nEpoch 60/60\n1538/1538 [==============================] - 1s 879us/sample - loss: 1.1993 - accuracy: 0.7451\n"
    },
    {
     "output_type": "execute_result",
     "data": {
      "text/plain": "<tensorflow.python.keras.callbacks.History at 0x211d4948608>"
     },
     "metadata": {},
     "execution_count": 118
    }
   ],
   "source": [
    "model.fit(tX_train,y_train,epochs=60)"
   ]
  },
  {
   "cell_type": "code",
   "execution_count": 119,
   "metadata": {
    "tags": []
   },
   "outputs": [
    {
     "output_type": "stream",
     "name": "stdout",
     "text": "10\n10\n"
    }
   ],
   "source": [
    "predictions  = model.predict(tX_test)\n",
    "preds = []\n",
    "for num in predictions:\n",
    "  score1 = np.round(num[0]) if num[0]>=0 else 0\n",
    "  score2 = np.round(num[1]) if num[1]>=0 else 0\n",
    "  preds.append((score1,score2))\n",
    "\n",
    "len(preds)\n",
    "\n",
    "score1 = []\n",
    "score2 = []\n",
    "\n",
    "for num in preds:\n",
    "  score1.append(num[0])\n",
    "  score2.append(num[1])\n",
    "\n",
    "print(len(score1))\n",
    "print(len(score2))\n",
    "\n",
    "new['Predicted Score 1'] = score1\n",
    "new['Predicted Score 2'] = score2\n",
    "new.to_excel(\"ProjectionsPLGW3_TF.xlsx\")"
   ]
  },
  {
   "cell_type": "code",
   "execution_count": null,
   "metadata": {},
   "outputs": [],
   "source": []
  }
 ],
 "metadata": {
  "kernelspec": {
   "display_name": "Python 3",
   "language": "python",
   "name": "python3"
  },
  "language_info": {
   "codemirror_mode": {
    "name": "ipython",
    "version": 3
   },
   "file_extension": ".py",
   "mimetype": "text/x-python",
   "name": "python",
   "nbconvert_exporter": "python",
   "pygments_lexer": "ipython3",
   "version": "3.7.4-final"
  }
 },
 "nbformat": 4,
 "nbformat_minor": 2
}