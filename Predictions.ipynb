{
 "cells": [
  {
   "cell_type": "code",
   "execution_count": 1,
   "metadata": {},
   "outputs": [],
   "source": [
    "import pandas as pd\n",
    "import numpy as np\n",
    "import tensorflow as tf\n",
    "import seaborn as sns\n",
    "import matplotlib.pyplot as plt\n",
    "import tensorflow.keras\n",
    "from tensorflow.keras.layers import *\n",
    "from tensorflow.keras.models import *\n",
    "from sklearn.model_selection import *\n",
    "from sklearn.model_selection import *\n",
    "from sklearn.linear_model import *\n",
    "from sklearn.preprocessing import *\n",
    "\n",
    "from sklearn.ensemble import *\n",
    "from datetime import datetime\n",
    "from tensorflow.keras.callbacks import *"
   ]
  },
  {
   "cell_type": "code",
   "execution_count": 2,
   "metadata": {},
   "outputs": [],
   "source": [
    "df = pd.read_csv(\"./Datasets/GW27/soccer-spi/spi_matches.csv\")"
   ]
  },
  {
   "cell_type": "code",
   "execution_count": 3,
   "metadata": {},
   "outputs": [
    {
     "output_type": "execute_result",
     "data": {
      "text/plain": [
       "   season        date  league_id                   league             team1  \\\n",
       "0    2016  2016-07-09       7921  FA Women's Super League   Liverpool Women   \n",
       "1    2016  2016-07-10       7921  FA Women's Super League     Arsenal Women   \n",
       "2    2016  2016-07-10       7921  FA Women's Super League  Chelsea FC Women   \n",
       "3    2016  2016-07-16       7921  FA Women's Super League   Liverpool Women   \n",
       "4    2016  2016-07-17       7921  FA Women's Super League  Chelsea FC Women   \n",
       "\n",
       "                 team2   spi1   spi2   prob1   prob2  ...  importance1  \\\n",
       "0              Reading  51.56  50.42  0.4389  0.2767  ...          NaN   \n",
       "1  Notts County Ladies  46.61  54.03  0.3572  0.3608  ...          NaN   \n",
       "2      Birmingham City  59.85  54.64  0.4799  0.2487  ...          NaN   \n",
       "3  Notts County Ladies  53.00  52.35  0.4289  0.2699  ...          NaN   \n",
       "4        Arsenal Women  59.43  60.99  0.4124  0.3157  ...          NaN   \n",
       "\n",
       "   importance2  score1  score2  xg1  xg2  nsxg1  nsxg2  adj_score1  adj_score2  \n",
       "0          NaN     2.0     0.0  NaN  NaN    NaN    NaN         NaN         NaN  \n",
       "1          NaN     2.0     0.0  NaN  NaN    NaN    NaN         NaN         NaN  \n",
       "2          NaN     1.0     1.0  NaN  NaN    NaN    NaN         NaN         NaN  \n",
       "3          NaN     0.0     0.0  NaN  NaN    NaN    NaN         NaN         NaN  \n",
       "4          NaN     1.0     2.0  NaN  NaN    NaN    NaN         NaN         NaN  \n",
       "\n",
       "[5 rows x 23 columns]"
      ],
      "text/html": "<div>\n<style scoped>\n    .dataframe tbody tr th:only-of-type {\n        vertical-align: middle;\n    }\n\n    .dataframe tbody tr th {\n        vertical-align: top;\n    }\n\n    .dataframe thead th {\n        text-align: right;\n    }\n</style>\n<table border=\"1\" class=\"dataframe\">\n  <thead>\n    <tr style=\"text-align: right;\">\n      <th></th>\n      <th>season</th>\n      <th>date</th>\n      <th>league_id</th>\n      <th>league</th>\n      <th>team1</th>\n      <th>team2</th>\n      <th>spi1</th>\n      <th>spi2</th>\n      <th>prob1</th>\n      <th>prob2</th>\n      <th>...</th>\n      <th>importance1</th>\n      <th>importance2</th>\n      <th>score1</th>\n      <th>score2</th>\n      <th>xg1</th>\n      <th>xg2</th>\n      <th>nsxg1</th>\n      <th>nsxg2</th>\n      <th>adj_score1</th>\n      <th>adj_score2</th>\n    </tr>\n  </thead>\n  <tbody>\n    <tr>\n      <th>0</th>\n      <td>2016</td>\n      <td>2016-07-09</td>\n      <td>7921</td>\n      <td>FA Women's Super League</td>\n      <td>Liverpool Women</td>\n      <td>Reading</td>\n      <td>51.56</td>\n      <td>50.42</td>\n      <td>0.4389</td>\n      <td>0.2767</td>\n      <td>...</td>\n      <td>NaN</td>\n      <td>NaN</td>\n      <td>2.0</td>\n      <td>0.0</td>\n      <td>NaN</td>\n      <td>NaN</td>\n      <td>NaN</td>\n      <td>NaN</td>\n      <td>NaN</td>\n      <td>NaN</td>\n    </tr>\n    <tr>\n      <th>1</th>\n      <td>2016</td>\n      <td>2016-07-10</td>\n      <td>7921</td>\n      <td>FA Women's Super League</td>\n      <td>Arsenal Women</td>\n      <td>Notts County Ladies</td>\n      <td>46.61</td>\n      <td>54.03</td>\n      <td>0.3572</td>\n      <td>0.3608</td>\n      <td>...</td>\n      <td>NaN</td>\n      <td>NaN</td>\n      <td>2.0</td>\n      <td>0.0</td>\n      <td>NaN</td>\n      <td>NaN</td>\n      <td>NaN</td>\n      <td>NaN</td>\n      <td>NaN</td>\n      <td>NaN</td>\n    </tr>\n    <tr>\n      <th>2</th>\n      <td>2016</td>\n      <td>2016-07-10</td>\n      <td>7921</td>\n      <td>FA Women's Super League</td>\n      <td>Chelsea FC Women</td>\n      <td>Birmingham City</td>\n      <td>59.85</td>\n      <td>54.64</td>\n      <td>0.4799</td>\n      <td>0.2487</td>\n      <td>...</td>\n      <td>NaN</td>\n      <td>NaN</td>\n      <td>1.0</td>\n      <td>1.0</td>\n      <td>NaN</td>\n      <td>NaN</td>\n      <td>NaN</td>\n      <td>NaN</td>\n      <td>NaN</td>\n      <td>NaN</td>\n    </tr>\n    <tr>\n      <th>3</th>\n      <td>2016</td>\n      <td>2016-07-16</td>\n      <td>7921</td>\n      <td>FA Women's Super League</td>\n      <td>Liverpool Women</td>\n      <td>Notts County Ladies</td>\n      <td>53.00</td>\n      <td>52.35</td>\n      <td>0.4289</td>\n      <td>0.2699</td>\n      <td>...</td>\n      <td>NaN</td>\n      <td>NaN</td>\n      <td>0.0</td>\n      <td>0.0</td>\n      <td>NaN</td>\n      <td>NaN</td>\n      <td>NaN</td>\n      <td>NaN</td>\n      <td>NaN</td>\n      <td>NaN</td>\n    </tr>\n    <tr>\n      <th>4</th>\n      <td>2016</td>\n      <td>2016-07-17</td>\n      <td>7921</td>\n      <td>FA Women's Super League</td>\n      <td>Chelsea FC Women</td>\n      <td>Arsenal Women</td>\n      <td>59.43</td>\n      <td>60.99</td>\n      <td>0.4124</td>\n      <td>0.3157</td>\n      <td>...</td>\n      <td>NaN</td>\n      <td>NaN</td>\n      <td>1.0</td>\n      <td>2.0</td>\n      <td>NaN</td>\n      <td>NaN</td>\n      <td>NaN</td>\n      <td>NaN</td>\n      <td>NaN</td>\n      <td>NaN</td>\n    </tr>\n  </tbody>\n</table>\n<p>5 rows × 23 columns</p>\n</div>"
     },
     "metadata": {},
     "execution_count": 3
    }
   ],
   "source": [
    "df.head()"
   ]
  },
  {
   "cell_type": "code",
   "execution_count": 4,
   "metadata": {},
   "outputs": [],
   "source": [
    "def dateconv (dates):\n",
    "  date = datetime.strptime(dates,'%Y-%m-%d') \n",
    "  return date\n",
    "\n",
    "df['date'] = df['date'].apply(lambda x : dateconv(x))"
   ]
  },
  {
   "cell_type": "code",
   "execution_count": 5,
   "metadata": {},
   "outputs": [],
   "source": [
    "last_played = datetime(2021,3,2)\n",
    "GW_end = datetime(2021,3,9)\n",
    "pl = df[df['league']== \"Barclays Premier League\"]\n",
    "old = pl[pl['date']<last_played]\n",
    "new = pl[pl['date']>last_played]\n",
    "new = new[new['date'] < GW_end]"
   ]
  },
  {
   "cell_type": "code",
   "execution_count": 6,
   "metadata": {},
   "outputs": [],
   "source": [
    "teams = pd.get_dummies(new[['team1','team2']])\n",
    "teamsold = pd.get_dummies(old[['team1','team2']])"
   ]
  },
  {
   "cell_type": "code",
   "execution_count": 7,
   "metadata": {},
   "outputs": [],
   "source": [
    "new = pd.concat([new,teams], axis=1)\n",
    "old = pd.concat([old,teamsold], axis=1)"
   ]
  },
  {
   "cell_type": "code",
   "execution_count": 8,
   "metadata": {
    "tags": []
   },
   "outputs": [
    {
     "output_type": "execute_result",
     "data": {
      "text/plain": [
       "Index(['season', 'date', 'league_id', 'league', 'team1', 'team2', 'spi1',\n",
       "       'spi2', 'prob1', 'prob2', 'probtie', 'proj_score1', 'proj_score2',\n",
       "       'importance1', 'importance2', 'score1', 'score2', 'xg1', 'xg2', 'nsxg1',\n",
       "       'nsxg2', 'adj_score1', 'adj_score2', 'team1_Aston Villa',\n",
       "       'team1_Brighton and Hove Albion', 'team1_Burnley', 'team1_Chelsea',\n",
       "       'team1_Crystal Palace', 'team1_Fulham', 'team1_Liverpool',\n",
       "       'team1_Manchester City', 'team1_Sheffield United',\n",
       "       'team1_Tottenham Hotspur', 'team1_West Bromwich Albion',\n",
       "       'team1_West Ham United', 'team2_Arsenal', 'team2_Aston Villa',\n",
       "       'team2_Chelsea', 'team2_Crystal Palace', 'team2_Everton',\n",
       "       'team2_Fulham', 'team2_Leeds United', 'team2_Leicester City',\n",
       "       'team2_Manchester United', 'team2_Newcastle', 'team2_Southampton',\n",
       "       'team2_Tottenham Hotspur', 'team2_Wolverhampton'],\n",
       "      dtype='object')"
      ]
     },
     "metadata": {},
     "execution_count": 8
    }
   ],
   "source": [
    "new.columns"
   ]
  },
  {
   "cell_type": "code",
   "execution_count": 9,
   "metadata": {},
   "outputs": [],
   "source": [
    "X_train = old[['season', 'spi1', 'spi2', 'score1','score2','prob1', 'prob2', 'probtie', 'proj_score1',\n",
    "       'proj_score2', 'team1_Aston Villa',\n",
    "       'team1_Brighton and Hove Albion', 'team1_Burnley', 'team1_Chelsea',\n",
    "       'team1_Crystal Palace', 'team1_Fulham', 'team1_Liverpool',\n",
    "       'team1_Manchester City', 'team1_Sheffield United',\n",
    "       'team1_Tottenham Hotspur', 'team1_West Bromwich Albion',\n",
    "       'team1_West Ham United', 'team2_Arsenal', 'team2_Aston Villa',\n",
    "       'team2_Chelsea', 'team2_Crystal Palace', 'team2_Everton',\n",
    "       'team2_Fulham', 'team2_Leeds United', 'team2_Leicester City',\n",
    "       'team2_Manchester United', 'team2_Newcastle', 'team2_Southampton',\n",
    "       'team2_Tottenham Hotspur', 'team2_Wolverhampton']]\n",
    "X_test = new[['season', 'spi1', 'spi2','prob1', 'prob2', 'probtie', 'proj_score1',\n",
    "       'proj_score2','team1_Aston Villa',\n",
    "       'team1_Brighton and Hove Albion', 'team1_Burnley', 'team1_Chelsea',\n",
    "       'team1_Crystal Palace', 'team1_Fulham', 'team1_Liverpool',\n",
    "       'team1_Manchester City', 'team1_Sheffield United',\n",
    "       'team1_Tottenham Hotspur', 'team1_West Bromwich Albion',\n",
    "       'team1_West Ham United', 'team2_Arsenal', 'team2_Aston Villa',\n",
    "       'team2_Chelsea', 'team2_Crystal Palace', 'team2_Everton',\n",
    "       'team2_Fulham', 'team2_Leeds United', 'team2_Leicester City',\n",
    "       'team2_Manchester United', 'team2_Newcastle', 'team2_Southampton',\n",
    "       'team2_Tottenham Hotspur', 'team2_Wolverhampton']]"
   ]
  },
  {
   "cell_type": "code",
   "execution_count": 10,
   "metadata": {
    "tags": []
   },
   "outputs": [],
   "source": [
    "X_train.dropna(inplace=True)"
   ]
  },
  {
   "cell_type": "code",
   "execution_count": 11,
   "metadata": {},
   "outputs": [],
   "source": [
    "X_test.dropna(inplace=True)"
   ]
  },
  {
   "cell_type": "code",
   "execution_count": 12,
   "metadata": {
    "tags": []
   },
   "outputs": [
    {
     "output_type": "stream",
     "name": "stdout",
     "text": [
      "16\n16\n"
     ]
    }
   ],
   "source": [
    "lm = LinearRegression()\n",
    "lm.fit(X_train.drop(['score1','score2'],axis=1),X_train[['score1','score2']])\n",
    "predictions  = lm.predict(X_test)\n",
    "preds = []\n",
    "for num in predictions:\n",
    "  score1 = np.round(num[0])\n",
    "  score2 = np.round(num[1])\n",
    "  preds.append((score1,score2))\n",
    "\n",
    "len(preds)\n",
    "\n",
    "score1 = []\n",
    "score2 = []\n",
    "\n",
    "for num in preds:\n",
    "  score1.append(num[0])\n",
    "  score2.append(num[1])\n",
    "\n",
    "print(len(score1))\n",
    "print(len(score2))\n",
    "\n",
    "new['Lenny Score 1'] = score1\n",
    "new['Lenny Score 2'] = score2\n",
    "new.to_excel(\"ProjectionsPLGW27_LR.xlsx\")"
   ]
  },
  {
   "cell_type": "code",
   "execution_count": 13,
   "metadata": {},
   "outputs": [],
   "source": [
    "tX_train = X_train.drop(['score1','score2'],axis=1).values\n",
    "tX_test =X_test.values\n",
    "y_train = X_train[['score1','score2']].values"
   ]
  },
  {
   "cell_type": "code",
   "execution_count": 14,
   "metadata": {},
   "outputs": [
    {
     "output_type": "execute_result",
     "data": {
      "text/plain": [
       "(1778, 33)"
      ]
     },
     "metadata": {},
     "execution_count": 14
    }
   ],
   "source": [
    "scaler = MinMaxScaler()\n",
    "tX_train = scaler.fit_transform(tX_train)\n",
    "tX_test = scaler.transform(tX_test)\n",
    "tX_train.shape"
   ]
  },
  {
   "cell_type": "code",
   "execution_count": 15,
   "metadata": {},
   "outputs": [],
   "source": [
    "def two_to_three(array):\n",
    "    array = np.reshape(array, array.shape+(1,))\n",
    "    return array"
   ]
  },
  {
   "cell_type": "code",
   "execution_count": 16,
   "metadata": {
    "tags": []
   },
   "outputs": [
    {
     "output_type": "stream",
     "name": "stdout",
     "text": [
      "(16, 33, 1)\n(1778, 33, 1)\n"
     ]
    }
   ],
   "source": [
    "tX_test = two_to_three(tX_test)\n",
    "tX_train = two_to_three(tX_train)\n",
    "print(tX_test.shape)\n",
    "print(tX_train.shape)"
   ]
  },
  {
   "cell_type": "code",
   "execution_count": 17,
   "metadata": {},
   "outputs": [],
   "source": [
    "model = Sequential()"
   ]
  },
  {
   "cell_type": "code",
   "execution_count": 18,
   "metadata": {},
   "outputs": [],
   "source": [
    "\n",
    "model.add(SimpleRNN(46, return_sequences=True))\n",
    "model.add(SimpleRNN(46, return_sequences=True))\n",
    "model.add(SimpleRNN(46))\n",
    "model.add(Dense(92, activation='relu'))\n",
    "model.add(Dense(2))\n"
   ]
  },
  {
   "cell_type": "code",
   "execution_count": 19,
   "metadata": {},
   "outputs": [],
   "source": [
    "model.compile(optimizer='adam',loss='mean_squared_error',metrics=['accuracy'])"
   ]
  },
  {
   "cell_type": "code",
   "execution_count": 20,
   "metadata": {},
   "outputs": [],
   "source": [
    "early_stop = EarlyStopping(monitor='loss', mode='min', verbose=1, patience=25)"
   ]
  },
  {
   "cell_type": "code",
   "execution_count": 21,
   "metadata": {
    "tags": []
   },
   "outputs": [
    {
     "output_type": "stream",
     "name": "stdout",
     "text": [
      "Train on 1778 samples\n",
      "Epoch 1/30\n",
      "1778/1778 [==============================] - 6s 3ms/sample - loss: 1.5448 - accuracy: 0.6862\n",
      "Epoch 2/30\n",
      "1778/1778 [==============================] - 2s 1ms/sample - loss: 1.4144 - accuracy: 0.6766\n",
      "Epoch 3/30\n",
      "1778/1778 [==============================] - 2s 1ms/sample - loss: 1.3915 - accuracy: 0.6699\n",
      "Epoch 4/30\n",
      "1778/1778 [==============================] - 2s 1ms/sample - loss: 1.3799 - accuracy: 0.6755\n",
      "Epoch 5/30\n",
      "1778/1778 [==============================] - 2s 1ms/sample - loss: 1.3706 - accuracy: 0.6884\n",
      "Epoch 6/30\n",
      "1778/1778 [==============================] - 2s 1ms/sample - loss: 1.3875 - accuracy: 0.6918\n",
      "Epoch 7/30\n",
      "1778/1778 [==============================] - 3s 1ms/sample - loss: 1.3717 - accuracy: 0.6856\n",
      "Epoch 8/30\n",
      "1778/1778 [==============================] - 2s 1ms/sample - loss: 1.3761 - accuracy: 0.6940\n",
      "Epoch 9/30\n",
      "1778/1778 [==============================] - 3s 2ms/sample - loss: 1.3626 - accuracy: 0.6940\n",
      "Epoch 10/30\n",
      "1778/1778 [==============================] - 2s 1ms/sample - loss: 1.3604 - accuracy: 0.7042\n",
      "Epoch 11/30\n",
      "1778/1778 [==============================] - 3s 2ms/sample - loss: 1.3498 - accuracy: 0.6867\n",
      "Epoch 12/30\n",
      "1778/1778 [==============================] - 3s 2ms/sample - loss: 1.3567 - accuracy: 0.6879\n",
      "Epoch 13/30\n",
      "1778/1778 [==============================] - 3s 2ms/sample - loss: 1.3419 - accuracy: 0.7013\n",
      "Epoch 14/30\n",
      "1778/1778 [==============================] - 4s 2ms/sample - loss: 1.3354 - accuracy: 0.7013\n",
      "Epoch 15/30\n",
      "1778/1778 [==============================] - 3s 2ms/sample - loss: 1.3251 - accuracy: 0.7070\n",
      "Epoch 16/30\n",
      "1778/1778 [==============================] - 3s 1ms/sample - loss: 1.3443 - accuracy: 0.7008\n",
      "Epoch 17/30\n",
      "1778/1778 [==============================] - 3s 1ms/sample - loss: 1.3327 - accuracy: 0.7109\n",
      "Epoch 18/30\n",
      "1778/1778 [==============================] - 3s 2ms/sample - loss: 1.3489 - accuracy: 0.6856\n",
      "Epoch 19/30\n",
      "1778/1778 [==============================] - 4s 2ms/sample - loss: 1.3354 - accuracy: 0.7064\n",
      "Epoch 20/30\n",
      "1778/1778 [==============================] - 3s 2ms/sample - loss: 1.3159 - accuracy: 0.7042\n",
      "Epoch 21/30\n",
      "1778/1778 [==============================] - 4s 2ms/sample - loss: 1.3265 - accuracy: 0.7008\n",
      "Epoch 22/30\n",
      "1778/1778 [==============================] - 5s 3ms/sample - loss: 1.3206 - accuracy: 0.7126\n",
      "Epoch 23/30\n",
      "1778/1778 [==============================] - 3s 2ms/sample - loss: 1.3200 - accuracy: 0.7087\n",
      "Epoch 24/30\n",
      "1778/1778 [==============================] - 3s 2ms/sample - loss: 1.3014 - accuracy: 0.7115\n",
      "Epoch 25/30\n",
      "1778/1778 [==============================] - 4s 2ms/sample - loss: 1.2954 - accuracy: 0.7205\n",
      "Epoch 26/30\n",
      "1778/1778 [==============================] - 3s 2ms/sample - loss: 1.3040 - accuracy: 0.7087\n",
      "Epoch 27/30\n",
      "1778/1778 [==============================] - 3s 2ms/sample - loss: 1.2993 - accuracy: 0.7143\n",
      "Epoch 28/30\n",
      "1778/1778 [==============================] - 3s 2ms/sample - loss: 1.2984 - accuracy: 0.7103\n",
      "Epoch 29/30\n",
      "1778/1778 [==============================] - 4s 3ms/sample - loss: 1.2866 - accuracy: 0.7126\n",
      "Epoch 30/30\n",
      "1778/1778 [==============================] - 3s 1ms/sample - loss: 1.2791 - accuracy: 0.7075\n"
     ]
    },
    {
     "output_type": "execute_result",
     "data": {
      "text/plain": [
       "<tensorflow.python.keras.callbacks.History at 0x253909ad088>"
      ]
     },
     "metadata": {},
     "execution_count": 21
    }
   ],
   "source": [
    "model.fit(tX_train,y_train,epochs=30)"
   ]
  },
  {
   "cell_type": "code",
   "execution_count": 22,
   "metadata": {
    "tags": []
   },
   "outputs": [
    {
     "output_type": "stream",
     "name": "stdout",
     "text": [
      "16\n16\n"
     ]
    }
   ],
   "source": [
    "predictions  = model.predict(tX_test)\n",
    "preds = []\n",
    "for num in predictions:\n",
    "  score1 = np.round(num[0]) if num[0]>=0 else 0\n",
    "  score2 = np.round(num[1]) if num[1]>=0 else 0\n",
    "  preds.append((score1,score2))\n",
    "\n",
    "len(preds)\n",
    "\n",
    "score1 = []\n",
    "score2 = []\n",
    "\n",
    "for num in preds:\n",
    "  score1.append(num[0])\n",
    "  score2.append(num[1])\n",
    "\n",
    "print(len(score1))\n",
    "print(len(score2))\n",
    "\n",
    "new['Tanner Score 1'] = score1\n",
    "new['Tanner Score 2'] = score2\n",
    "new.to_excel(\"ProjectionsPLGW27_TF.xlsx\")"
   ]
  },
  {
   "cell_type": "code",
   "execution_count": null,
   "metadata": {},
   "outputs": [],
   "source": []
  }
 ],
 "metadata": {
  "kernelspec": {
   "name": "python37764bit7343d164877b48f68d762d3623b2808e",
   "display_name": "Python 3.7.7 64-bit",
   "language": "python"
  },
  "language_info": {
   "codemirror_mode": {
    "name": "ipython",
    "version": 3
   },
   "file_extension": ".py",
   "mimetype": "text/x-python",
   "name": "python",
   "nbconvert_exporter": "python",
   "pygments_lexer": "ipython3",
   "version": "3.7.7-final"
  }
 },
 "nbformat": 4,
 "nbformat_minor": 2
}