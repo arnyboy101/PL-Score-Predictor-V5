{
 "cells": [
  {
   "cell_type": "code",
   "execution_count": 1,
   "metadata": {},
   "outputs": [],
   "source": [
    "import pandas as pd\n",
    "import numpy as np\n",
    "import tensorflow as tf\n",
    "import seaborn as sns\n",
    "import matplotlib.pyplot as plt\n",
    "import tensorflow.keras\n",
    "from tensorflow.keras.layers import Dense, Flatten\n",
    "from tensorflow.keras.models import *\n",
    "from sklearn.model_selection import *\n",
    "from sklearn.model_selection import *\n",
    "from sklearn.linear_model import *\n",
    "from sklearn.preprocessing import *\n",
    "from sklearn.ensemble import *\n",
    "from datetime import datetime\n",
    "from tensorflow.keras.callbacks import *"
   ]
  },
  {
   "cell_type": "code",
   "execution_count": 2,
   "metadata": {},
   "outputs": [],
   "source": [
    "df = pd.read_csv(\"./UCL_Preds_Machine/spi_matches.csv\")"
   ]
  },
  {
   "cell_type": "code",
   "execution_count": 3,
   "metadata": {},
   "outputs": [
    {
     "output_type": "execute_result",
     "data": {
      "text/plain": "   season        date  league_id                   league           team1  \\\n0    2016  2016-08-12       1843           French Ligue 1          Bastia   \n1    2016  2016-08-12       1843           French Ligue 1       AS Monaco   \n2    2016  2016-08-13       2411  Barclays Premier League       Hull City   \n3    2016  2016-08-13       2411  Barclays Premier League         Everton   \n4    2016  2016-08-13       2411  Barclays Premier League  Crystal Palace   \n\n                  team2   spi1   spi2   prob1   prob2  ...  importance1  \\\n0   Paris Saint-Germain  51.16  85.68  0.0463  0.8380  ...         32.4   \n1              Guingamp  68.85  56.48  0.5714  0.1669  ...         53.7   \n2        Leicester City  53.57  66.81  0.3459  0.3621  ...         38.1   \n3     Tottenham Hotspur  68.02  73.25  0.3910  0.3401  ...         31.9   \n4  West Bromwich Albion  55.19  58.66  0.4214  0.2939  ...         43.6   \n\n   importance2  score1  score2   xg1   xg2  nsxg1  nsxg2  adj_score1  \\\n0         67.7     0.0     1.0  0.97  0.63   0.43   0.45        0.00   \n1         22.9     2.0     2.0  2.45  0.77   1.75   0.42        2.10   \n2         22.2     2.0     1.0  0.85  2.77   0.17   1.25        2.10   \n3         48.0     1.0     1.0  0.73  1.11   0.88   1.81        1.05   \n4         34.6     0.0     1.0  1.11  0.68   0.84   1.60        0.00   \n\n   adj_score2  \n0        1.05  \n1        2.10  \n2        1.05  \n3        1.05  \n4        1.05  \n\n[5 rows x 23 columns]",
      "text/html": "<div>\n<style scoped>\n    .dataframe tbody tr th:only-of-type {\n        vertical-align: middle;\n    }\n\n    .dataframe tbody tr th {\n        vertical-align: top;\n    }\n\n    .dataframe thead th {\n        text-align: right;\n    }\n</style>\n<table border=\"1\" class=\"dataframe\">\n  <thead>\n    <tr style=\"text-align: right;\">\n      <th></th>\n      <th>season</th>\n      <th>date</th>\n      <th>league_id</th>\n      <th>league</th>\n      <th>team1</th>\n      <th>team2</th>\n      <th>spi1</th>\n      <th>spi2</th>\n      <th>prob1</th>\n      <th>prob2</th>\n      <th>...</th>\n      <th>importance1</th>\n      <th>importance2</th>\n      <th>score1</th>\n      <th>score2</th>\n      <th>xg1</th>\n      <th>xg2</th>\n      <th>nsxg1</th>\n      <th>nsxg2</th>\n      <th>adj_score1</th>\n      <th>adj_score2</th>\n    </tr>\n  </thead>\n  <tbody>\n    <tr>\n      <th>0</th>\n      <td>2016</td>\n      <td>2016-08-12</td>\n      <td>1843</td>\n      <td>French Ligue 1</td>\n      <td>Bastia</td>\n      <td>Paris Saint-Germain</td>\n      <td>51.16</td>\n      <td>85.68</td>\n      <td>0.0463</td>\n      <td>0.8380</td>\n      <td>...</td>\n      <td>32.4</td>\n      <td>67.7</td>\n      <td>0.0</td>\n      <td>1.0</td>\n      <td>0.97</td>\n      <td>0.63</td>\n      <td>0.43</td>\n      <td>0.45</td>\n      <td>0.00</td>\n      <td>1.05</td>\n    </tr>\n    <tr>\n      <th>1</th>\n      <td>2016</td>\n      <td>2016-08-12</td>\n      <td>1843</td>\n      <td>French Ligue 1</td>\n      <td>AS Monaco</td>\n      <td>Guingamp</td>\n      <td>68.85</td>\n      <td>56.48</td>\n      <td>0.5714</td>\n      <td>0.1669</td>\n      <td>...</td>\n      <td>53.7</td>\n      <td>22.9</td>\n      <td>2.0</td>\n      <td>2.0</td>\n      <td>2.45</td>\n      <td>0.77</td>\n      <td>1.75</td>\n      <td>0.42</td>\n      <td>2.10</td>\n      <td>2.10</td>\n    </tr>\n    <tr>\n      <th>2</th>\n      <td>2016</td>\n      <td>2016-08-13</td>\n      <td>2411</td>\n      <td>Barclays Premier League</td>\n      <td>Hull City</td>\n      <td>Leicester City</td>\n      <td>53.57</td>\n      <td>66.81</td>\n      <td>0.3459</td>\n      <td>0.3621</td>\n      <td>...</td>\n      <td>38.1</td>\n      <td>22.2</td>\n      <td>2.0</td>\n      <td>1.0</td>\n      <td>0.85</td>\n      <td>2.77</td>\n      <td>0.17</td>\n      <td>1.25</td>\n      <td>2.10</td>\n      <td>1.05</td>\n    </tr>\n    <tr>\n      <th>3</th>\n      <td>2016</td>\n      <td>2016-08-13</td>\n      <td>2411</td>\n      <td>Barclays Premier League</td>\n      <td>Everton</td>\n      <td>Tottenham Hotspur</td>\n      <td>68.02</td>\n      <td>73.25</td>\n      <td>0.3910</td>\n      <td>0.3401</td>\n      <td>...</td>\n      <td>31.9</td>\n      <td>48.0</td>\n      <td>1.0</td>\n      <td>1.0</td>\n      <td>0.73</td>\n      <td>1.11</td>\n      <td>0.88</td>\n      <td>1.81</td>\n      <td>1.05</td>\n      <td>1.05</td>\n    </tr>\n    <tr>\n      <th>4</th>\n      <td>2016</td>\n      <td>2016-08-13</td>\n      <td>2411</td>\n      <td>Barclays Premier League</td>\n      <td>Crystal Palace</td>\n      <td>West Bromwich Albion</td>\n      <td>55.19</td>\n      <td>58.66</td>\n      <td>0.4214</td>\n      <td>0.2939</td>\n      <td>...</td>\n      <td>43.6</td>\n      <td>34.6</td>\n      <td>0.0</td>\n      <td>1.0</td>\n      <td>1.11</td>\n      <td>0.68</td>\n      <td>0.84</td>\n      <td>1.60</td>\n      <td>0.00</td>\n      <td>1.05</td>\n    </tr>\n  </tbody>\n</table>\n<p>5 rows × 23 columns</p>\n</div>"
     },
     "metadata": {},
     "execution_count": 3
    }
   ],
   "source": [
    "df.head()"
   ]
  },
  {
   "cell_type": "code",
   "execution_count": 4,
   "metadata": {},
   "outputs": [],
   "source": [
    "def dateconv (dates):\n",
    "  date = datetime.strptime(dates,'%Y-%m-%d') \n",
    "  return date\n",
    "\n",
    "df['date'] = df['date'].apply(lambda x : dateconv(x))"
   ]
  },
  {
   "cell_type": "code",
   "execution_count": 5,
   "metadata": {},
   "outputs": [
    {
     "output_type": "execute_result",
     "data": {
      "text/plain": "   season       date  league_id                   league           team1  \\\n0    2016 2016-08-12       1843           French Ligue 1          Bastia   \n1    2016 2016-08-12       1843           French Ligue 1       AS Monaco   \n2    2016 2016-08-13       2411  Barclays Premier League       Hull City   \n3    2016 2016-08-13       2411  Barclays Premier League         Everton   \n4    2016 2016-08-13       2411  Barclays Premier League  Crystal Palace   \n\n                  team2   spi1   spi2   prob1   prob2  ...  importance1  \\\n0   Paris Saint-Germain  51.16  85.68  0.0463  0.8380  ...         32.4   \n1              Guingamp  68.85  56.48  0.5714  0.1669  ...         53.7   \n2        Leicester City  53.57  66.81  0.3459  0.3621  ...         38.1   \n3     Tottenham Hotspur  68.02  73.25  0.3910  0.3401  ...         31.9   \n4  West Bromwich Albion  55.19  58.66  0.4214  0.2939  ...         43.6   \n\n   importance2  score1  score2   xg1   xg2  nsxg1  nsxg2  adj_score1  \\\n0         67.7     0.0     1.0  0.97  0.63   0.43   0.45        0.00   \n1         22.9     2.0     2.0  2.45  0.77   1.75   0.42        2.10   \n2         22.2     2.0     1.0  0.85  2.77   0.17   1.25        2.10   \n3         48.0     1.0     1.0  0.73  1.11   0.88   1.81        1.05   \n4         34.6     0.0     1.0  1.11  0.68   0.84   1.60        0.00   \n\n   adj_score2  \n0        1.05  \n1        2.10  \n2        1.05  \n3        1.05  \n4        1.05  \n\n[5 rows x 23 columns]",
      "text/html": "<div>\n<style scoped>\n    .dataframe tbody tr th:only-of-type {\n        vertical-align: middle;\n    }\n\n    .dataframe tbody tr th {\n        vertical-align: top;\n    }\n\n    .dataframe thead th {\n        text-align: right;\n    }\n</style>\n<table border=\"1\" class=\"dataframe\">\n  <thead>\n    <tr style=\"text-align: right;\">\n      <th></th>\n      <th>season</th>\n      <th>date</th>\n      <th>league_id</th>\n      <th>league</th>\n      <th>team1</th>\n      <th>team2</th>\n      <th>spi1</th>\n      <th>spi2</th>\n      <th>prob1</th>\n      <th>prob2</th>\n      <th>...</th>\n      <th>importance1</th>\n      <th>importance2</th>\n      <th>score1</th>\n      <th>score2</th>\n      <th>xg1</th>\n      <th>xg2</th>\n      <th>nsxg1</th>\n      <th>nsxg2</th>\n      <th>adj_score1</th>\n      <th>adj_score2</th>\n    </tr>\n  </thead>\n  <tbody>\n    <tr>\n      <th>0</th>\n      <td>2016</td>\n      <td>2016-08-12</td>\n      <td>1843</td>\n      <td>French Ligue 1</td>\n      <td>Bastia</td>\n      <td>Paris Saint-Germain</td>\n      <td>51.16</td>\n      <td>85.68</td>\n      <td>0.0463</td>\n      <td>0.8380</td>\n      <td>...</td>\n      <td>32.4</td>\n      <td>67.7</td>\n      <td>0.0</td>\n      <td>1.0</td>\n      <td>0.97</td>\n      <td>0.63</td>\n      <td>0.43</td>\n      <td>0.45</td>\n      <td>0.00</td>\n      <td>1.05</td>\n    </tr>\n    <tr>\n      <th>1</th>\n      <td>2016</td>\n      <td>2016-08-12</td>\n      <td>1843</td>\n      <td>French Ligue 1</td>\n      <td>AS Monaco</td>\n      <td>Guingamp</td>\n      <td>68.85</td>\n      <td>56.48</td>\n      <td>0.5714</td>\n      <td>0.1669</td>\n      <td>...</td>\n      <td>53.7</td>\n      <td>22.9</td>\n      <td>2.0</td>\n      <td>2.0</td>\n      <td>2.45</td>\n      <td>0.77</td>\n      <td>1.75</td>\n      <td>0.42</td>\n      <td>2.10</td>\n      <td>2.10</td>\n    </tr>\n    <tr>\n      <th>2</th>\n      <td>2016</td>\n      <td>2016-08-13</td>\n      <td>2411</td>\n      <td>Barclays Premier League</td>\n      <td>Hull City</td>\n      <td>Leicester City</td>\n      <td>53.57</td>\n      <td>66.81</td>\n      <td>0.3459</td>\n      <td>0.3621</td>\n      <td>...</td>\n      <td>38.1</td>\n      <td>22.2</td>\n      <td>2.0</td>\n      <td>1.0</td>\n      <td>0.85</td>\n      <td>2.77</td>\n      <td>0.17</td>\n      <td>1.25</td>\n      <td>2.10</td>\n      <td>1.05</td>\n    </tr>\n    <tr>\n      <th>3</th>\n      <td>2016</td>\n      <td>2016-08-13</td>\n      <td>2411</td>\n      <td>Barclays Premier League</td>\n      <td>Everton</td>\n      <td>Tottenham Hotspur</td>\n      <td>68.02</td>\n      <td>73.25</td>\n      <td>0.3910</td>\n      <td>0.3401</td>\n      <td>...</td>\n      <td>31.9</td>\n      <td>48.0</td>\n      <td>1.0</td>\n      <td>1.0</td>\n      <td>0.73</td>\n      <td>1.11</td>\n      <td>0.88</td>\n      <td>1.81</td>\n      <td>1.05</td>\n      <td>1.05</td>\n    </tr>\n    <tr>\n      <th>4</th>\n      <td>2016</td>\n      <td>2016-08-13</td>\n      <td>2411</td>\n      <td>Barclays Premier League</td>\n      <td>Crystal Palace</td>\n      <td>West Bromwich Albion</td>\n      <td>55.19</td>\n      <td>58.66</td>\n      <td>0.4214</td>\n      <td>0.2939</td>\n      <td>...</td>\n      <td>43.6</td>\n      <td>34.6</td>\n      <td>0.0</td>\n      <td>1.0</td>\n      <td>1.11</td>\n      <td>0.68</td>\n      <td>0.84</td>\n      <td>1.60</td>\n      <td>0.00</td>\n      <td>1.05</td>\n    </tr>\n  </tbody>\n</table>\n<p>5 rows × 23 columns</p>\n</div>"
     },
     "metadata": {},
     "execution_count": 5
    }
   ],
   "source": [
    "df.head()"
   ]
  },
  {
   "cell_type": "code",
   "execution_count": 71,
   "metadata": {},
   "outputs": [],
   "source": [
    "last_played = datetime(2020,8,8)\n",
    "cl = df[(df['league']== \"UEFA Champions League\")]\n",
    "all = df[(df['league']== \"UEFA Champions League\") | (df['league']==\"Barclays Premier League\") | (df['league']==\"Italy Serie A\") | (df['league']==\"German Bundesliga\") | (df['league']==\"French Ligue 1\")]\n",
    "old = all[all['date']<last_played]\n",
    "new = cl[cl['date']>last_played]\n",
    "\n"
   ]
  },
  {
   "cell_type": "code",
   "execution_count": 72,
   "metadata": {},
   "outputs": [],
   "source": [
    "teams = pd.get_dummies(new[['team1','team2']])\n",
    "teamsold = pd.get_dummies(old[['team1','team2']])\n"
   ]
  },
  {
   "cell_type": "code",
   "execution_count": 73,
   "metadata": {},
   "outputs": [],
   "source": [
    "new = pd.concat([new,teams],axis=1)\n",
    "old = pd.concat([old,teamsold],axis=1)"
   ]
  },
  {
   "cell_type": "code",
   "execution_count": 41,
   "metadata": {},
   "outputs": [
    {
     "output_type": "execute_result",
     "data": {
      "text/plain": "Index(['season', 'date', 'league_id', 'league', 'team1', 'team2', 'spi1',\n       'spi2', 'prob1', 'prob2', 'probtie', 'proj_score1', 'proj_score2',\n       'importance1', 'importance2', 'score1', 'score2', 'xg1', 'xg2', 'nsxg1',\n       'nsxg2', 'adj_score1', 'adj_score2', 'team1_Atalanta',\n       'team1_Barcelona', 'team1_Manchester City', 'team1_RB Leipzig',\n       'team2_Atletico Madrid', 'team2_Bayern Munich', 'team2_Lyon',\n       'team2_Paris Saint-Germain'],\n      dtype='object')"
     },
     "metadata": {},
     "execution_count": 41
    }
   ],
   "source": [
    "new.columns"
   ]
  },
  {
   "cell_type": "code",
   "execution_count": 42,
   "metadata": {
    "tags": []
   },
   "outputs": [
    {
     "output_type": "stream",
     "name": "stdout",
     "text": "'season' ,\n'date' ,\n'league_id' ,\n'league' ,\n'team1' ,\n'team2' ,\n'spi1' ,\n'spi2' ,\n'prob1' ,\n'prob2' ,\n'probtie' ,\n'proj_score1' ,\n'proj_score2' ,\n'importance1' ,\n'importance2' ,\n'score1' ,\n'score2' ,\n'xg1' ,\n'xg2' ,\n'nsxg1' ,\n'nsxg2' ,\n'adj_score1' ,\n'adj_score2' ,\n'team1_Atalanta' ,\n'team1_Barcelona' ,\n'team1_Manchester City' ,\n'team1_RB Leipzig' ,\n'team2_Atletico Madrid' ,\n'team2_Bayern Munich' ,\n'team2_Lyon' ,\n'team2_Paris Saint-Germain' ,\n"
    }
   ],
   "source": [
    "for column in new.columns:\n",
    "    print(\"'{}' ,\".format(column))"
   ]
  },
  {
   "cell_type": "code",
   "execution_count": 90,
   "metadata": {},
   "outputs": [],
   "source": [
    "X_train = old[['spi1' ,\n",
    "'spi2' ,\n",
    "'prob1' ,\n",
    "'prob2' ,\n",
    "'probtie' ,\n",
    "'proj_score1' ,\n",
    "'proj_score2' ,\n",
    "\n",
    "'score1','score2',\n",
    "\n",
    "'team1_Atalanta' ,\n",
    "'team1_Barcelona' ,\n",
    "'team1_Manchester City' ,\n",
    "'team1_RB Leipzig' ,\n",
    "'team2_Atletico Madrid' ,\n",
    "'team2_Bayern Munich' ,\n",
    "'team2_Lyon' ,\n",
    "'team2_Paris Saint-Germain']].dropna()\n",
    "X_test = new[['spi1' ,\n",
    "'spi2' ,\n",
    "'prob1' ,\n",
    "'prob2' ,\n",
    "'probtie' ,\n",
    "'proj_score1' ,\n",
    "'proj_score2' ,\n",
    "\n",
    "\n",
    "'team1_Atalanta' ,\n",
    "'team1_Barcelona' ,\n",
    "'team1_Manchester City' ,\n",
    "'team1_RB Leipzig' ,\n",
    "'team2_Atletico Madrid' ,\n",
    "'team2_Bayern Munich' ,\n",
    "'team2_Lyon' ,\n",
    "'team2_Paris Saint-Germain']]"
   ]
  },
  {
   "cell_type": "code",
   "execution_count": 91,
   "metadata": {
    "tags": []
   },
   "outputs": [
    {
     "output_type": "stream",
     "name": "stdout",
     "text": "<class 'pandas.core.frame.DataFrame'>\nInt64Index: 6168 entries, 0 to 33069\nData columns (total 17 columns):\n #   Column                     Non-Null Count  Dtype  \n---  ------                     --------------  -----  \n 0   spi1                       6168 non-null   float64\n 1   spi2                       6168 non-null   float64\n 2   prob1                      6168 non-null   float64\n 3   prob2                      6168 non-null   float64\n 4   probtie                    6168 non-null   float64\n 5   proj_score1                6168 non-null   float64\n 6   proj_score2                6168 non-null   float64\n 7   score1                     6168 non-null   float64\n 8   score2                     6168 non-null   float64\n 9   team1_Atalanta             6168 non-null   uint8  \n 10  team1_Barcelona            6168 non-null   uint8  \n 11  team1_Manchester City      6168 non-null   uint8  \n 12  team1_RB Leipzig           6168 non-null   uint8  \n 13  team2_Atletico Madrid      6168 non-null   uint8  \n 14  team2_Bayern Munich        6168 non-null   uint8  \n 15  team2_Lyon                 6168 non-null   uint8  \n 16  team2_Paris Saint-Germain  6168 non-null   uint8  \ndtypes: float64(9), uint8(8)\nmemory usage: 530.1 KB\n"
    }
   ],
   "source": [
    "\n",
    "X_train.dropna().info()\n"
   ]
  },
  {
   "cell_type": "code",
   "execution_count": 95,
   "metadata": {},
   "outputs": [],
   "source": [
    "X_train = X_train.dropna().drop(['score1','score2'],axis=1)\n"
   ]
  },
  {
   "cell_type": "code",
   "execution_count": 96,
   "metadata": {
    "tags": []
   },
   "outputs": [
    {
     "output_type": "stream",
     "name": "stdout",
     "text": "4\n4\n"
    }
   ],
   "source": [
    "lm = LinearRegression()\n",
    "lm.fit(X_train,old[['score1','score2']].dropna())\n",
    "predictions  = lm.predict(X_test)\n",
    "preds = []\n",
    "for num in predictions:\n",
    "  score1 = np.round(num[0])\n",
    "  score2 = np.round(num[1])\n",
    "  preds.append((score1,score2))\n",
    "\n",
    "len(preds)\n",
    "\n",
    "score1 = []\n",
    "score2 = []\n",
    "\n",
    "for num in preds:\n",
    "  score1.append(num[0])\n",
    "  score2.append(num[1])\n",
    "\n",
    "print(len(score1))\n",
    "print(len(score2))\n",
    "\n",
    "new['Predicted Score 1'] = score1\n",
    "new['Predicted Score 2'] = score2\n",
    "new.to_excel(\"ProjectionsCL_LR2.xlsx\")"
   ]
  },
  {
   "cell_type": "code",
   "execution_count": 98,
   "metadata": {},
   "outputs": [],
   "source": [
    "tX_train = X_train.values\n",
    "tX_test =X_test.values\n",
    "y_train = old[['score1','score2']].dropna().values\n"
   ]
  },
  {
   "cell_type": "code",
   "execution_count": null,
   "metadata": {},
   "outputs": [],
   "source": []
  },
  {
   "cell_type": "code",
   "execution_count": 99,
   "metadata": {},
   "outputs": [
    {
     "output_type": "execute_result",
     "data": {
      "text/plain": "(6168, 15)"
     },
     "metadata": {},
     "execution_count": 99
    }
   ],
   "source": [
    "scaler = MinMaxScaler()\n",
    "tX_train = scaler.fit_transform(tX_train)\n",
    "tX_test = scaler.transform(tX_test)\n",
    "tX_train.shape"
   ]
  },
  {
   "cell_type": "code",
   "execution_count": 100,
   "metadata": {},
   "outputs": [],
   "source": [
    "model = Sequential()"
   ]
  },
  {
   "cell_type": "code",
   "execution_count": 101,
   "metadata": {},
   "outputs": [],
   "source": [
    "model.add(Flatten())\n",
    "model.add(Dense(1024,activation=tf.nn.relu))\n",
    "model.add(Dense(2))"
   ]
  },
  {
   "cell_type": "code",
   "execution_count": 102,
   "metadata": {},
   "outputs": [],
   "source": [
    "model.compile(optimizer='adam',loss='mean_squared_error')"
   ]
  },
  {
   "cell_type": "code",
   "execution_count": 103,
   "metadata": {},
   "outputs": [],
   "source": [
    "early_stop = EarlyStopping(monitor='loss', mode='min', verbose=1, patience=25)\n"
   ]
  },
  {
   "cell_type": "code",
   "execution_count": 104,
   "metadata": {
    "tags": []
   },
   "outputs": [
    {
     "output_type": "stream",
     "name": "stdout",
     "text": "Train on 6168 samples\nEpoch 1/200\n6168/6168 [==============================] - 1s 151us/sample - loss: 1.4665\nEpoch 2/200\n6168/6168 [==============================] - 0s 68us/sample - loss: 1.3708\nEpoch 3/200\n6168/6168 [==============================] - 0s 57us/sample - loss: 1.3722\nEpoch 4/200\n6168/6168 [==============================] - 0s 68us/sample - loss: 1.3646\nEpoch 5/200\n6168/6168 [==============================] - 0s 70us/sample - loss: 1.3689\nEpoch 6/200\n6168/6168 [==============================] - 0s 71us/sample - loss: 1.3664\nEpoch 7/200\n6168/6168 [==============================] - 1s 88us/sample - loss: 1.3642\nEpoch 8/200\n6168/6168 [==============================] - 1s 104us/sample - loss: 1.3645\nEpoch 9/200\n6168/6168 [==============================] - 1s 113us/sample - loss: 1.3629\nEpoch 10/200\n6168/6168 [==============================] - 1s 140us/sample - loss: 1.3679\nEpoch 11/200\n6168/6168 [==============================] - 1s 150us/sample - loss: 1.3642\nEpoch 12/200\n6168/6168 [==============================] - 1s 125us/sample - loss: 1.3616\nEpoch 13/200\n6168/6168 [==============================] - 1s 137us/sample - loss: 1.3644\nEpoch 14/200\n6168/6168 [==============================] - 1s 122us/sample - loss: 1.3620\nEpoch 15/200\n6168/6168 [==============================] - 1s 119us/sample - loss: 1.3617\nEpoch 16/200\n6168/6168 [==============================] - 1s 111us/sample - loss: 1.3615\nEpoch 17/200\n6168/6168 [==============================] - 1s 105us/sample - loss: 1.3633\nEpoch 18/200\n6168/6168 [==============================] - 1s 99us/sample - loss: 1.3610\nEpoch 19/200\n6168/6168 [==============================] - 1s 103us/sample - loss: 1.3610\nEpoch 20/200\n6168/6168 [==============================] - 1s 121us/sample - loss: 1.3620\nEpoch 21/200\n6168/6168 [==============================] - 1s 122us/sample - loss: 1.3640\nEpoch 22/200\n6168/6168 [==============================] - 1s 110us/sample - loss: 1.3615\nEpoch 23/200\n6168/6168 [==============================] - 1s 111us/sample - loss: 1.3621\nEpoch 24/200\n6168/6168 [==============================] - 1s 100us/sample - loss: 1.3598\nEpoch 25/200\n6168/6168 [==============================] - 1s 119us/sample - loss: 1.3572\nEpoch 26/200\n6168/6168 [==============================] - 1s 107us/sample - loss: 1.3602\nEpoch 27/200\n6168/6168 [==============================] - 1s 127us/sample - loss: 1.3590\nEpoch 28/200\n6168/6168 [==============================] - 1s 127us/sample - loss: 1.3596\nEpoch 29/200\n6168/6168 [==============================] - 1s 140us/sample - loss: 1.3588\nEpoch 30/200\n6168/6168 [==============================] - 1s 133us/sample - loss: 1.3586\nEpoch 31/200\n6168/6168 [==============================] - 1s 128us/sample - loss: 1.3637\nEpoch 32/200\n6168/6168 [==============================] - 1s 107us/sample - loss: 1.3542\nEpoch 33/200\n6168/6168 [==============================] - 1s 96us/sample - loss: 1.3570\nEpoch 34/200\n6168/6168 [==============================] - 1s 97us/sample - loss: 1.3587\nEpoch 35/200\n6168/6168 [==============================] - 1s 95us/sample - loss: 1.3565\nEpoch 36/200\n6168/6168 [==============================] - 1s 108us/sample - loss: 1.3568\nEpoch 37/200\n6168/6168 [==============================] - 1s 124us/sample - loss: 1.3568\nEpoch 38/200\n6168/6168 [==============================] - 1s 122us/sample - loss: 1.3588\nEpoch 39/200\n6168/6168 [==============================] - 1s 133us/sample - loss: 1.3571\nEpoch 40/200\n6168/6168 [==============================] - 1s 107us/sample - loss: 1.3582\nEpoch 41/200\n6168/6168 [==============================] - 1s 109us/sample - loss: 1.3556\nEpoch 42/200\n6168/6168 [==============================] - 1s 115us/sample - loss: 1.3563\nEpoch 43/200\n6168/6168 [==============================] - 1s 113us/sample - loss: 1.3540\nEpoch 44/200\n6168/6168 [==============================] - 1s 140us/sample - loss: 1.3555\nEpoch 45/200\n6168/6168 [==============================] - 1s 179us/sample - loss: 1.3517\nEpoch 46/200\n6168/6168 [==============================] - 2s 338us/sample - loss: 1.3571\nEpoch 47/200\n6168/6168 [==============================] - 1s 173us/sample - loss: 1.3549\nEpoch 48/200\n6168/6168 [==============================] - 1s 167us/sample - loss: 1.3521\nEpoch 49/200\n6168/6168 [==============================] - 1s 157us/sample - loss: 1.3520\nEpoch 50/200\n6168/6168 [==============================] - 1s 122us/sample - loss: 1.3531\nEpoch 51/200\n6168/6168 [==============================] - 1s 121us/sample - loss: 1.3538\nEpoch 52/200\n6168/6168 [==============================] - 1s 123us/sample - loss: 1.3544\nEpoch 53/200\n6168/6168 [==============================] - 1s 124us/sample - loss: 1.3541\nEpoch 54/200\n6168/6168 [==============================] - 1s 122us/sample - loss: 1.3526\nEpoch 55/200\n6168/6168 [==============================] - 1s 104us/sample - loss: 1.3539\nEpoch 56/200\n6168/6168 [==============================] - 1s 113us/sample - loss: 1.3520\nEpoch 57/200\n6168/6168 [==============================] - 1s 136us/sample - loss: 1.3539\nEpoch 58/200\n6168/6168 [==============================] - 1s 113us/sample - loss: 1.3509\nEpoch 59/200\n6168/6168 [==============================] - 1s 119us/sample - loss: 1.3532\nEpoch 60/200\n6168/6168 [==============================] - 1s 113us/sample - loss: 1.3513\nEpoch 61/200\n6168/6168 [==============================] - 1s 116us/sample - loss: 1.3503\nEpoch 62/200\n6168/6168 [==============================] - 1s 103us/sample - loss: 1.3513\nEpoch 63/200\n6168/6168 [==============================] - 1s 97us/sample - loss: 1.3534\nEpoch 64/200\n6168/6168 [==============================] - 1s 97us/sample - loss: 1.3526\nEpoch 65/200\n6168/6168 [==============================] - 1s 109us/sample - loss: 1.3513\nEpoch 66/200\n6168/6168 [==============================] - 1s 148us/sample - loss: 1.3518\nEpoch 67/200\n6168/6168 [==============================] - 1s 143us/sample - loss: 1.3509\nEpoch 68/200\n6168/6168 [==============================] - 1s 124us/sample - loss: 1.3508\nEpoch 69/200\n6168/6168 [==============================] - 1s 113us/sample - loss: 1.3494\nEpoch 70/200\n6168/6168 [==============================] - 1s 95us/sample - loss: 1.3515\nEpoch 71/200\n6168/6168 [==============================] - 1s 96us/sample - loss: 1.3530\nEpoch 72/200\n6168/6168 [==============================] - 1s 117us/sample - loss: 1.3512\nEpoch 73/200\n6168/6168 [==============================] - 1s 104us/sample - loss: 1.3478\nEpoch 74/200\n6168/6168 [==============================] - 1s 115us/sample - loss: 1.3471\nEpoch 75/200\n6168/6168 [==============================] - 1s 125us/sample - loss: 1.3495\nEpoch 76/200\n6168/6168 [==============================] - 1s 140us/sample - loss: 1.3487\nEpoch 77/200\n6168/6168 [==============================] - 1s 108us/sample - loss: 1.3488\nEpoch 78/200\n6168/6168 [==============================] - 1s 99us/sample - loss: 1.3499\nEpoch 79/200\n6168/6168 [==============================] - 1s 102us/sample - loss: 1.3493\nEpoch 80/200\n6168/6168 [==============================] - 1s 111us/sample - loss: 1.3475\nEpoch 81/200\n6168/6168 [==============================] - 1s 120us/sample - loss: 1.3469\nEpoch 82/200\n6168/6168 [==============================] - 1s 116us/sample - loss: 1.3505\nEpoch 83/200\n6168/6168 [==============================] - 1s 105us/sample - loss: 1.3470\nEpoch 84/200\n6168/6168 [==============================] - 1s 114us/sample - loss: 1.3506\nEpoch 85/200\n6168/6168 [==============================] - 1s 122us/sample - loss: 1.3484\nEpoch 86/200\n6168/6168 [==============================] - 1s 104us/sample - loss: 1.3462\nEpoch 87/200\n6168/6168 [==============================] - 1s 109us/sample - loss: 1.3492\nEpoch 88/200\n6168/6168 [==============================] - 1s 123us/sample - loss: 1.3459\nEpoch 89/200\n6168/6168 [==============================] - 1s 117us/sample - loss: 1.3464\nEpoch 90/200\n6168/6168 [==============================] - 1s 113us/sample - loss: 1.3466\nEpoch 91/200\n6168/6168 [==============================] - 1s 116us/sample - loss: 1.3465\nEpoch 92/200\n6168/6168 [==============================] - 1s 100us/sample - loss: 1.3468\nEpoch 93/200\n6168/6168 [==============================] - 1s 119us/sample - loss: 1.3448\nEpoch 94/200\n6168/6168 [==============================] - 1s 125us/sample - loss: 1.3461\nEpoch 95/200\n6168/6168 [==============================] - 1s 115us/sample - loss: 1.3468\nEpoch 96/200\n6168/6168 [==============================] - 1s 112us/sample - loss: 1.3481\nEpoch 97/200\n6168/6168 [==============================] - 1s 98us/sample - loss: 1.3462\nEpoch 98/200\n6168/6168 [==============================] - 1s 105us/sample - loss: 1.3453\nEpoch 99/200\n6168/6168 [==============================] - 1s 97us/sample - loss: 1.3484\nEpoch 100/200\n6168/6168 [==============================] - 1s 99us/sample - loss: 1.3459\nEpoch 101/200\n6168/6168 [==============================] - 1s 102us/sample - loss: 1.3440\nEpoch 102/200\n6168/6168 [==============================] - 1s 109us/sample - loss: 1.3454\nEpoch 103/200\n6168/6168 [==============================] - 1s 139us/sample - loss: 1.3444\nEpoch 104/200\n6168/6168 [==============================] - 1s 128us/sample - loss: 1.3463\nEpoch 105/200\n6168/6168 [==============================] - 1s 104us/sample - loss: 1.3429\nEpoch 106/200\n6168/6168 [==============================] - 1s 118us/sample - loss: 1.3494\nEpoch 107/200\n6168/6168 [==============================] - 1s 107us/sample - loss: 1.3489\nEpoch 108/200\n6168/6168 [==============================] - 1s 112us/sample - loss: 1.3449\nEpoch 109/200\n6168/6168 [==============================] - 1s 104us/sample - loss: 1.3449\nEpoch 110/200\n6168/6168 [==============================] - 1s 118us/sample - loss: 1.3449\nEpoch 111/200\n6168/6168 [==============================] - 1s 127us/sample - loss: 1.3439\nEpoch 112/200\n6168/6168 [==============================] - 1s 127us/sample - loss: 1.3473\nEpoch 113/200\n6168/6168 [==============================] - 1s 120us/sample - loss: 1.3446\nEpoch 114/200\n6168/6168 [==============================] - 1s 111us/sample - loss: 1.3424\nEpoch 115/200\n6168/6168 [==============================] - 1s 106us/sample - loss: 1.3440\nEpoch 116/200\n6168/6168 [==============================] - 1s 105us/sample - loss: 1.3470\nEpoch 117/200\n6168/6168 [==============================] - 1s 119us/sample - loss: 1.3410\nEpoch 118/200\n6168/6168 [==============================] - 1s 119us/sample - loss: 1.3419\nEpoch 119/200\n6168/6168 [==============================] - 1s 110us/sample - loss: 1.3415\nEpoch 120/200\n6168/6168 [==============================] - 1s 133us/sample - loss: 1.3426\nEpoch 121/200\n6168/6168 [==============================] - 1s 137us/sample - loss: 1.3424\nEpoch 122/200\n6168/6168 [==============================] - 1s 135us/sample - loss: 1.3429\nEpoch 123/200\n6168/6168 [==============================] - 1s 122us/sample - loss: 1.3403\nEpoch 124/200\n6168/6168 [==============================] - 1s 124us/sample - loss: 1.3418\nEpoch 125/200\n6168/6168 [==============================] - 1s 230us/sample - loss: 1.3400\nEpoch 126/200\n6168/6168 [==============================] - 2s 280us/sample - loss: 1.3426\nEpoch 127/200\n6168/6168 [==============================] - 1s 183us/sample - loss: 1.3422\nEpoch 128/200\n6168/6168 [==============================] - 1s 169us/sample - loss: 1.3397\nEpoch 129/200\n6168/6168 [==============================] - 1s 152us/sample - loss: 1.3432\nEpoch 130/200\n6168/6168 [==============================] - 1s 115us/sample - loss: 1.3407\nEpoch 131/200\n6168/6168 [==============================] - 1s 114us/sample - loss: 1.3409\nEpoch 132/200\n6168/6168 [==============================] - 1s 117us/sample - loss: 1.3391\nEpoch 133/200\n6168/6168 [==============================] - 1s 118us/sample - loss: 1.3407\nEpoch 134/200\n6168/6168 [==============================] - 1s 141us/sample - loss: 1.3404\nEpoch 135/200\n6168/6168 [==============================] - 1s 127us/sample - loss: 1.3395\nEpoch 136/200\n6168/6168 [==============================] - 1s 127us/sample - loss: 1.3389\nEpoch 137/200\n6168/6168 [==============================] - 1s 136us/sample - loss: 1.3404\nEpoch 138/200\n6168/6168 [==============================] - 1s 115us/sample - loss: 1.3430\nEpoch 139/200\n6168/6168 [==============================] - 1s 103us/sample - loss: 1.3393\nEpoch 140/200\n6168/6168 [==============================] - 1s 121us/sample - loss: 1.3398\nEpoch 141/200\n6168/6168 [==============================] - 1s 117us/sample - loss: 1.3406\nEpoch 142/200\n6168/6168 [==============================] - 1s 90us/sample - loss: 1.3393\nEpoch 143/200\n6168/6168 [==============================] - 1s 106us/sample - loss: 1.3393\nEpoch 144/200\n6168/6168 [==============================] - 1s 154us/sample - loss: 1.3399\nEpoch 145/200\n6168/6168 [==============================] - 1s 143us/sample - loss: 1.3398\nEpoch 146/200\n6168/6168 [==============================] - 1s 128us/sample - loss: 1.3407\nEpoch 147/200\n6168/6168 [==============================] - 1s 116us/sample - loss: 1.3407\nEpoch 148/200\n6168/6168 [==============================] - 1s 136us/sample - loss: 1.3376\nEpoch 149/200\n6168/6168 [==============================] - 1s 128us/sample - loss: 1.3392\nEpoch 150/200\n6168/6168 [==============================] - 1s 140us/sample - loss: 1.3376\nEpoch 151/200\n6168/6168 [==============================] - 1s 160us/sample - loss: 1.3390\nEpoch 152/200\n6168/6168 [==============================] - 1s 121us/sample - loss: 1.3373\nEpoch 153/200\n6168/6168 [==============================] - 1s 130us/sample - loss: 1.3412\nEpoch 154/200\n6168/6168 [==============================] - 1s 138us/sample - loss: 1.3377\nEpoch 155/200\n6168/6168 [==============================] - 1s 119us/sample - loss: 1.3362\nEpoch 156/200\n6168/6168 [==============================] - 1s 114us/sample - loss: 1.3394\nEpoch 157/200\n6168/6168 [==============================] - 1s 125us/sample - loss: 1.3367\nEpoch 158/200\n6168/6168 [==============================] - 1s 116us/sample - loss: 1.3396\nEpoch 159/200\n6168/6168 [==============================] - 1s 116us/sample - loss: 1.3361\nEpoch 160/200\n6168/6168 [==============================] - 1s 112us/sample - loss: 1.3398\nEpoch 161/200\n6168/6168 [==============================] - 1s 120us/sample - loss: 1.3388\nEpoch 162/200\n6168/6168 [==============================] - 1s 122us/sample - loss: 1.3390\nEpoch 163/200\n6168/6168 [==============================] - 1s 108us/sample - loss: 1.3364\nEpoch 164/200\n6168/6168 [==============================] - 1s 95us/sample - loss: 1.3354\nEpoch 165/200\n6168/6168 [==============================] - 1s 95us/sample - loss: 1.3363\nEpoch 166/200\n6168/6168 [==============================] - 1s 93us/sample - loss: 1.3374\nEpoch 167/200\n6168/6168 [==============================] - 1s 116us/sample - loss: 1.3373\nEpoch 168/200\n6168/6168 [==============================] - 1s 87us/sample - loss: 1.3347\nEpoch 169/200\n6168/6168 [==============================] - 1s 106us/sample - loss: 1.3353\nEpoch 170/200\n6168/6168 [==============================] - 1s 125us/sample - loss: 1.3370\nEpoch 171/200\n6168/6168 [==============================] - 1s 127us/sample - loss: 1.3355\nEpoch 172/200\n6168/6168 [==============================] - 1s 120us/sample - loss: 1.3337\nEpoch 173/200\n6168/6168 [==============================] - 1s 106us/sample - loss: 1.3346\nEpoch 174/200\n6168/6168 [==============================] - 1s 122us/sample - loss: 1.3349\nEpoch 175/200\n6168/6168 [==============================] - 1s 95us/sample - loss: 1.3358\nEpoch 176/200\n6168/6168 [==============================] - 0s 75us/sample - loss: 1.3350\nEpoch 177/200\n6168/6168 [==============================] - 1s 91us/sample - loss: 1.3342\nEpoch 178/200\n6168/6168 [==============================] - 1s 82us/sample - loss: 1.3350\nEpoch 179/200\n6168/6168 [==============================] - 1s 85us/sample - loss: 1.3327\nEpoch 180/200\n6168/6168 [==============================] - 1s 82us/sample - loss: 1.3336\nEpoch 181/200\n6168/6168 [==============================] - 1s 137us/sample - loss: 1.3361\nEpoch 182/200\n6168/6168 [==============================] - 1s 134us/sample - loss: 1.3322\nEpoch 183/200\n6168/6168 [==============================] - 1s 96us/sample - loss: 1.3355\nEpoch 184/200\n6168/6168 [==============================] - 1s 83us/sample - loss: 1.3345\nEpoch 185/200\n6168/6168 [==============================] - 1s 94us/sample - loss: 1.3354\nEpoch 186/200\n6168/6168 [==============================] - 1s 140us/sample - loss: 1.3339\nEpoch 187/200\n6168/6168 [==============================] - 1s 122us/sample - loss: 1.3344\nEpoch 188/200\n6168/6168 [==============================] - 1s 89us/sample - loss: 1.3319\nEpoch 189/200\n6168/6168 [==============================] - 1s 101us/sample - loss: 1.3319\nEpoch 190/200\n6168/6168 [==============================] - 1s 111us/sample - loss: 1.3350\nEpoch 191/200\n6168/6168 [==============================] - 1s 156us/sample - loss: 1.3324\nEpoch 192/200\n6168/6168 [==============================] - 1s 108us/sample - loss: 1.3338\nEpoch 193/200\n6168/6168 [==============================] - 1s 85us/sample - loss: 1.3317\nEpoch 194/200\n6168/6168 [==============================] - 1s 103us/sample - loss: 1.3326\nEpoch 195/200\n6168/6168 [==============================] - 1s 117us/sample - loss: 1.3312\nEpoch 196/200\n6168/6168 [==============================] - 1s 108us/sample - loss: 1.3335\nEpoch 197/200\n6168/6168 [==============================] - 1s 99us/sample - loss: 1.3337\nEpoch 198/200\n6168/6168 [==============================] - 1s 82us/sample - loss: 1.3339\nEpoch 199/200\n6168/6168 [==============================] - 0s 78us/sample - loss: 1.3329\nEpoch 200/200\n6168/6168 [==============================] - 1s 123us/sample - loss: 1.3310\n"
    },
    {
     "output_type": "execute_result",
     "data": {
      "text/plain": "<tensorflow.python.keras.callbacks.History at 0x21052779108>"
     },
     "metadata": {},
     "execution_count": 104
    }
   ],
   "source": [
    "model.fit(tX_train,y_train,epochs=200,callbacks=[early_stop])"
   ]
  },
  {
   "cell_type": "code",
   "execution_count": 105,
   "metadata": {
    "tags": []
   },
   "outputs": [
    {
     "output_type": "stream",
     "name": "stdout",
     "text": "4\n4\n"
    }
   ],
   "source": [
    "predictions  = model.predict(tX_test)\n",
    "preds = []\n",
    "for num in predictions:\n",
    "  score1 = np.round(num[0]) if num[0]>=0 else 0\n",
    "  score2 = np.round(num[1]) if num[1]>=0 else 0\n",
    "  preds.append((score1,score2))\n",
    "\n",
    "len(preds)\n",
    "\n",
    "score1 = []\n",
    "score2 = []\n",
    "\n",
    "for num in preds:\n",
    "  score1.append(num[0])\n",
    "  score2.append(num[1])\n",
    "\n",
    "print(len(score1))\n",
    "print(len(score2))\n",
    "\n",
    "new['Predicted Score 1'] = score1\n",
    "new['Predicted Score 2'] = score2\n",
    "new.to_excel(\"ProjectionsCL_TF2.xlsx\")"
   ]
  },
  {
   "cell_type": "code",
   "execution_count": null,
   "metadata": {},
   "outputs": [],
   "source": []
  }
 ],
 "metadata": {
  "language_info": {
   "codemirror_mode": {
    "name": "ipython",
    "version": 3
   },
   "file_extension": ".py",
   "mimetype": "text/x-python",
   "name": "python",
   "nbconvert_exporter": "python",
   "pygments_lexer": "ipython3",
   "version": "3.7.7-final"
  },
  "orig_nbformat": 2,
  "kernelspec": {
   "name": "python37764bit7343d164877b48f68d762d3623b2808e",
   "display_name": "Python 3.7.7 64-bit"
  }
 },
 "nbformat": 4,
 "nbformat_minor": 2
}